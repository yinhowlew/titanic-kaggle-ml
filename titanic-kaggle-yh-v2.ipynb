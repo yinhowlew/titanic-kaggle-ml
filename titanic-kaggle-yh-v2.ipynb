{
 "cells": [
  {
   "cell_type": "markdown",
   "execution_count": null,
   "metadata": {},
   "source": [
    "# Titanic Challenge for kaggle.com\n",
    "\n",
    "Attempt number 2.\n",
    "\n",
    "Our previous attempt has a score of 0.78947. We did not do any feature engineering, and simply run RandomForest classifier tuned with RandomSearchCV,\n",
    "\n",
    "After reading around, especially https://www.kaggle.com/nadintamer/titanic-survival-predictions-beginner, I am inspired to try a few ways to improve the features and model.\n",
    "\n"
   ]
  },
  {
   "cell_type": "markdown",
   "execution_count": null,
   "metadata": {},
   "source": [
    "## 1) Import libraries"
   ]
  },
  {
   "cell_type": "code",
   "execution_count": 1,
   "metadata": {
    "_cell_guid": "b1076dfc-b9ad-4769-8c92-a6c4dae69d19",
    "_uuid": "8f2839f25d086af736a60e9eeb907d3b93b6e0e5"
   },
   "outputs": [],
   "source": [
    "import numpy as np\n",
    "import pandas as pd \n",
    "\n",
    "import matplotlib.pyplot as plt\n",
    "import seaborn as sns\n",
    "%matplotlib inline\n",
    "\n",
    "import warnings\n",
    "warnings.filterwarnings('ignore')"
   ]
  },
  {
   "cell_type": "markdown",
   "execution_count": null,
   "metadata": {},
   "source": [
    "## 2) Import train and test dataset"
   ]
  },
  {
   "cell_type": "code",
   "execution_count": 2,
   "metadata": {
    "_cell_guid": "79c7e3d0-c299-4dcb-8224-4455121ee9b0",
    "_uuid": "d629ff2d2480ee46fbb7e2d37f6b5fab8052498a"
   },
   "outputs": [
    {
     "data": {
      "text/html": [
       "<div>\n",
       "<style scoped>\n",
       "    .dataframe tbody tr th:only-of-type {\n",
       "        vertical-align: middle;\n",
       "    }\n",
       "\n",
       "    .dataframe tbody tr th {\n",
       "        vertical-align: top;\n",
       "    }\n",
       "\n",
       "    .dataframe thead th {\n",
       "        text-align: right;\n",
       "    }\n",
       "</style>\n",
       "<table border=\"1\" class=\"dataframe\">\n",
       "  <thead>\n",
       "    <tr style=\"text-align: right;\">\n",
       "      <th></th>\n",
       "      <th>PassengerId</th>\n",
       "      <th>Survived</th>\n",
       "      <th>Pclass</th>\n",
       "      <th>Name</th>\n",
       "      <th>Sex</th>\n",
       "      <th>Age</th>\n",
       "      <th>SibSp</th>\n",
       "      <th>Parch</th>\n",
       "      <th>Ticket</th>\n",
       "      <th>Fare</th>\n",
       "      <th>Cabin</th>\n",
       "      <th>Embarked</th>\n",
       "    </tr>\n",
       "  </thead>\n",
       "  <tbody>\n",
       "    <tr>\n",
       "      <th>0</th>\n",
       "      <td>1</td>\n",
       "      <td>0</td>\n",
       "      <td>3</td>\n",
       "      <td>Braund, Mr. Owen Harris</td>\n",
       "      <td>male</td>\n",
       "      <td>22.0</td>\n",
       "      <td>1</td>\n",
       "      <td>0</td>\n",
       "      <td>A/5 21171</td>\n",
       "      <td>7.2500</td>\n",
       "      <td>NaN</td>\n",
       "      <td>S</td>\n",
       "    </tr>\n",
       "    <tr>\n",
       "      <th>1</th>\n",
       "      <td>2</td>\n",
       "      <td>1</td>\n",
       "      <td>1</td>\n",
       "      <td>Cumings, Mrs. John Bradley (Florence Briggs Th...</td>\n",
       "      <td>female</td>\n",
       "      <td>38.0</td>\n",
       "      <td>1</td>\n",
       "      <td>0</td>\n",
       "      <td>PC 17599</td>\n",
       "      <td>71.2833</td>\n",
       "      <td>C85</td>\n",
       "      <td>C</td>\n",
       "    </tr>\n",
       "    <tr>\n",
       "      <th>2</th>\n",
       "      <td>3</td>\n",
       "      <td>1</td>\n",
       "      <td>3</td>\n",
       "      <td>Heikkinen, Miss. Laina</td>\n",
       "      <td>female</td>\n",
       "      <td>26.0</td>\n",
       "      <td>0</td>\n",
       "      <td>0</td>\n",
       "      <td>STON/O2. 3101282</td>\n",
       "      <td>7.9250</td>\n",
       "      <td>NaN</td>\n",
       "      <td>S</td>\n",
       "    </tr>\n",
       "    <tr>\n",
       "      <th>3</th>\n",
       "      <td>4</td>\n",
       "      <td>1</td>\n",
       "      <td>1</td>\n",
       "      <td>Futrelle, Mrs. Jacques Heath (Lily May Peel)</td>\n",
       "      <td>female</td>\n",
       "      <td>35.0</td>\n",
       "      <td>1</td>\n",
       "      <td>0</td>\n",
       "      <td>113803</td>\n",
       "      <td>53.1000</td>\n",
       "      <td>C123</td>\n",
       "      <td>S</td>\n",
       "    </tr>\n",
       "    <tr>\n",
       "      <th>4</th>\n",
       "      <td>5</td>\n",
       "      <td>0</td>\n",
       "      <td>3</td>\n",
       "      <td>Allen, Mr. William Henry</td>\n",
       "      <td>male</td>\n",
       "      <td>35.0</td>\n",
       "      <td>0</td>\n",
       "      <td>0</td>\n",
       "      <td>373450</td>\n",
       "      <td>8.0500</td>\n",
       "      <td>NaN</td>\n",
       "      <td>S</td>\n",
       "    </tr>\n",
       "  </tbody>\n",
       "</table>\n",
       "</div>"
      ],
      "text/plain": [
       "   PassengerId  Survived  Pclass  \\\n",
       "0            1         0       3   \n",
       "1            2         1       1   \n",
       "2            3         1       3   \n",
       "3            4         1       1   \n",
       "4            5         0       3   \n",
       "\n",
       "                                                Name     Sex   Age  SibSp  \\\n",
       "0                            Braund, Mr. Owen Harris    male  22.0      1   \n",
       "1  Cumings, Mrs. John Bradley (Florence Briggs Th...  female  38.0      1   \n",
       "2                             Heikkinen, Miss. Laina  female  26.0      0   \n",
       "3       Futrelle, Mrs. Jacques Heath (Lily May Peel)  female  35.0      1   \n",
       "4                           Allen, Mr. William Henry    male  35.0      0   \n",
       "\n",
       "   Parch            Ticket     Fare Cabin Embarked  \n",
       "0      0         A/5 21171   7.2500   NaN        S  \n",
       "1      0          PC 17599  71.2833   C85        C  \n",
       "2      0  STON/O2. 3101282   7.9250   NaN        S  \n",
       "3      0            113803  53.1000  C123        S  \n",
       "4      0            373450   8.0500   NaN        S  "
      ]
     },
     "execution_count": 2,
     "metadata": {},
     "output_type": "execute_result"
    }
   ],
   "source": [
    "# data will be used for training and validation\n",
    "# test will be used for final evaluation\n",
    "data = pd.read_csv(\"/kaggle/input/titanic/train.csv\")\n",
    "test = pd.read_csv(\"/kaggle/input/titanic/test.csv\")\n",
    "data.head()"
   ]
  },
  {
   "cell_type": "code",
   "execution_count": 3,
   "metadata": {},
   "outputs": [
    {
     "data": {
      "text/html": [
       "<div>\n",
       "<style scoped>\n",
       "    .dataframe tbody tr th:only-of-type {\n",
       "        vertical-align: middle;\n",
       "    }\n",
       "\n",
       "    .dataframe tbody tr th {\n",
       "        vertical-align: top;\n",
       "    }\n",
       "\n",
       "    .dataframe thead th {\n",
       "        text-align: right;\n",
       "    }\n",
       "</style>\n",
       "<table border=\"1\" class=\"dataframe\">\n",
       "  <thead>\n",
       "    <tr style=\"text-align: right;\">\n",
       "      <th></th>\n",
       "      <th>PassengerId</th>\n",
       "      <th>Survived</th>\n",
       "      <th>Pclass</th>\n",
       "      <th>Name</th>\n",
       "      <th>Sex</th>\n",
       "      <th>Age</th>\n",
       "      <th>SibSp</th>\n",
       "      <th>Parch</th>\n",
       "      <th>Ticket</th>\n",
       "      <th>Fare</th>\n",
       "      <th>Cabin</th>\n",
       "      <th>Embarked</th>\n",
       "    </tr>\n",
       "  </thead>\n",
       "  <tbody>\n",
       "    <tr>\n",
       "      <th>count</th>\n",
       "      <td>891.000000</td>\n",
       "      <td>891.000000</td>\n",
       "      <td>891.000000</td>\n",
       "      <td>891</td>\n",
       "      <td>891</td>\n",
       "      <td>714.000000</td>\n",
       "      <td>891.000000</td>\n",
       "      <td>891.000000</td>\n",
       "      <td>891</td>\n",
       "      <td>891.000000</td>\n",
       "      <td>204</td>\n",
       "      <td>889</td>\n",
       "    </tr>\n",
       "    <tr>\n",
       "      <th>unique</th>\n",
       "      <td>NaN</td>\n",
       "      <td>NaN</td>\n",
       "      <td>NaN</td>\n",
       "      <td>891</td>\n",
       "      <td>2</td>\n",
       "      <td>NaN</td>\n",
       "      <td>NaN</td>\n",
       "      <td>NaN</td>\n",
       "      <td>681</td>\n",
       "      <td>NaN</td>\n",
       "      <td>147</td>\n",
       "      <td>3</td>\n",
       "    </tr>\n",
       "    <tr>\n",
       "      <th>top</th>\n",
       "      <td>NaN</td>\n",
       "      <td>NaN</td>\n",
       "      <td>NaN</td>\n",
       "      <td>O'Sullivan, Miss. Bridget Mary</td>\n",
       "      <td>male</td>\n",
       "      <td>NaN</td>\n",
       "      <td>NaN</td>\n",
       "      <td>NaN</td>\n",
       "      <td>347082</td>\n",
       "      <td>NaN</td>\n",
       "      <td>B96 B98</td>\n",
       "      <td>S</td>\n",
       "    </tr>\n",
       "    <tr>\n",
       "      <th>freq</th>\n",
       "      <td>NaN</td>\n",
       "      <td>NaN</td>\n",
       "      <td>NaN</td>\n",
       "      <td>1</td>\n",
       "      <td>577</td>\n",
       "      <td>NaN</td>\n",
       "      <td>NaN</td>\n",
       "      <td>NaN</td>\n",
       "      <td>7</td>\n",
       "      <td>NaN</td>\n",
       "      <td>4</td>\n",
       "      <td>644</td>\n",
       "    </tr>\n",
       "    <tr>\n",
       "      <th>mean</th>\n",
       "      <td>446.000000</td>\n",
       "      <td>0.383838</td>\n",
       "      <td>2.308642</td>\n",
       "      <td>NaN</td>\n",
       "      <td>NaN</td>\n",
       "      <td>29.699118</td>\n",
       "      <td>0.523008</td>\n",
       "      <td>0.381594</td>\n",
       "      <td>NaN</td>\n",
       "      <td>32.204208</td>\n",
       "      <td>NaN</td>\n",
       "      <td>NaN</td>\n",
       "    </tr>\n",
       "    <tr>\n",
       "      <th>std</th>\n",
       "      <td>257.353842</td>\n",
       "      <td>0.486592</td>\n",
       "      <td>0.836071</td>\n",
       "      <td>NaN</td>\n",
       "      <td>NaN</td>\n",
       "      <td>14.526497</td>\n",
       "      <td>1.102743</td>\n",
       "      <td>0.806057</td>\n",
       "      <td>NaN</td>\n",
       "      <td>49.693429</td>\n",
       "      <td>NaN</td>\n",
       "      <td>NaN</td>\n",
       "    </tr>\n",
       "    <tr>\n",
       "      <th>min</th>\n",
       "      <td>1.000000</td>\n",
       "      <td>0.000000</td>\n",
       "      <td>1.000000</td>\n",
       "      <td>NaN</td>\n",
       "      <td>NaN</td>\n",
       "      <td>0.420000</td>\n",
       "      <td>0.000000</td>\n",
       "      <td>0.000000</td>\n",
       "      <td>NaN</td>\n",
       "      <td>0.000000</td>\n",
       "      <td>NaN</td>\n",
       "      <td>NaN</td>\n",
       "    </tr>\n",
       "    <tr>\n",
       "      <th>25%</th>\n",
       "      <td>223.500000</td>\n",
       "      <td>0.000000</td>\n",
       "      <td>2.000000</td>\n",
       "      <td>NaN</td>\n",
       "      <td>NaN</td>\n",
       "      <td>20.125000</td>\n",
       "      <td>0.000000</td>\n",
       "      <td>0.000000</td>\n",
       "      <td>NaN</td>\n",
       "      <td>7.910400</td>\n",
       "      <td>NaN</td>\n",
       "      <td>NaN</td>\n",
       "    </tr>\n",
       "    <tr>\n",
       "      <th>50%</th>\n",
       "      <td>446.000000</td>\n",
       "      <td>0.000000</td>\n",
       "      <td>3.000000</td>\n",
       "      <td>NaN</td>\n",
       "      <td>NaN</td>\n",
       "      <td>28.000000</td>\n",
       "      <td>0.000000</td>\n",
       "      <td>0.000000</td>\n",
       "      <td>NaN</td>\n",
       "      <td>14.454200</td>\n",
       "      <td>NaN</td>\n",
       "      <td>NaN</td>\n",
       "    </tr>\n",
       "    <tr>\n",
       "      <th>75%</th>\n",
       "      <td>668.500000</td>\n",
       "      <td>1.000000</td>\n",
       "      <td>3.000000</td>\n",
       "      <td>NaN</td>\n",
       "      <td>NaN</td>\n",
       "      <td>38.000000</td>\n",
       "      <td>1.000000</td>\n",
       "      <td>0.000000</td>\n",
       "      <td>NaN</td>\n",
       "      <td>31.000000</td>\n",
       "      <td>NaN</td>\n",
       "      <td>NaN</td>\n",
       "    </tr>\n",
       "    <tr>\n",
       "      <th>max</th>\n",
       "      <td>891.000000</td>\n",
       "      <td>1.000000</td>\n",
       "      <td>3.000000</td>\n",
       "      <td>NaN</td>\n",
       "      <td>NaN</td>\n",
       "      <td>80.000000</td>\n",
       "      <td>8.000000</td>\n",
       "      <td>6.000000</td>\n",
       "      <td>NaN</td>\n",
       "      <td>512.329200</td>\n",
       "      <td>NaN</td>\n",
       "      <td>NaN</td>\n",
       "    </tr>\n",
       "  </tbody>\n",
       "</table>\n",
       "</div>"
      ],
      "text/plain": [
       "        PassengerId    Survived      Pclass                            Name  \\\n",
       "count    891.000000  891.000000  891.000000                             891   \n",
       "unique          NaN         NaN         NaN                             891   \n",
       "top             NaN         NaN         NaN  O'Sullivan, Miss. Bridget Mary   \n",
       "freq            NaN         NaN         NaN                               1   \n",
       "mean     446.000000    0.383838    2.308642                             NaN   \n",
       "std      257.353842    0.486592    0.836071                             NaN   \n",
       "min        1.000000    0.000000    1.000000                             NaN   \n",
       "25%      223.500000    0.000000    2.000000                             NaN   \n",
       "50%      446.000000    0.000000    3.000000                             NaN   \n",
       "75%      668.500000    1.000000    3.000000                             NaN   \n",
       "max      891.000000    1.000000    3.000000                             NaN   \n",
       "\n",
       "         Sex         Age       SibSp       Parch  Ticket        Fare    Cabin  \\\n",
       "count    891  714.000000  891.000000  891.000000     891  891.000000      204   \n",
       "unique     2         NaN         NaN         NaN     681         NaN      147   \n",
       "top     male         NaN         NaN         NaN  347082         NaN  B96 B98   \n",
       "freq     577         NaN         NaN         NaN       7         NaN        4   \n",
       "mean     NaN   29.699118    0.523008    0.381594     NaN   32.204208      NaN   \n",
       "std      NaN   14.526497    1.102743    0.806057     NaN   49.693429      NaN   \n",
       "min      NaN    0.420000    0.000000    0.000000     NaN    0.000000      NaN   \n",
       "25%      NaN   20.125000    0.000000    0.000000     NaN    7.910400      NaN   \n",
       "50%      NaN   28.000000    0.000000    0.000000     NaN   14.454200      NaN   \n",
       "75%      NaN   38.000000    1.000000    0.000000     NaN   31.000000      NaN   \n",
       "max      NaN   80.000000    8.000000    6.000000     NaN  512.329200      NaN   \n",
       "\n",
       "       Embarked  \n",
       "count       889  \n",
       "unique        3  \n",
       "top           S  \n",
       "freq        644  \n",
       "mean        NaN  \n",
       "std         NaN  \n",
       "min         NaN  \n",
       "25%         NaN  \n",
       "50%         NaN  \n",
       "75%         NaN  \n",
       "max         NaN  "
      ]
     },
     "execution_count": 3,
     "metadata": {},
     "output_type": "execute_result"
    }
   ],
   "source": [
    "data.describe(include=\"all\")"
   ]
  },
  {
   "cell_type": "code",
   "execution_count": 4,
   "metadata": {},
   "outputs": [
    {
     "data": {
      "text/html": [
       "<div>\n",
       "<style scoped>\n",
       "    .dataframe tbody tr th:only-of-type {\n",
       "        vertical-align: middle;\n",
       "    }\n",
       "\n",
       "    .dataframe tbody tr th {\n",
       "        vertical-align: top;\n",
       "    }\n",
       "\n",
       "    .dataframe thead th {\n",
       "        text-align: right;\n",
       "    }\n",
       "</style>\n",
       "<table border=\"1\" class=\"dataframe\">\n",
       "  <thead>\n",
       "    <tr style=\"text-align: right;\">\n",
       "      <th></th>\n",
       "      <th>PassengerId</th>\n",
       "      <th>Pclass</th>\n",
       "      <th>Name</th>\n",
       "      <th>Sex</th>\n",
       "      <th>Age</th>\n",
       "      <th>SibSp</th>\n",
       "      <th>Parch</th>\n",
       "      <th>Ticket</th>\n",
       "      <th>Fare</th>\n",
       "      <th>Cabin</th>\n",
       "      <th>Embarked</th>\n",
       "    </tr>\n",
       "  </thead>\n",
       "  <tbody>\n",
       "    <tr>\n",
       "      <th>count</th>\n",
       "      <td>418.000000</td>\n",
       "      <td>418.000000</td>\n",
       "      <td>418</td>\n",
       "      <td>418</td>\n",
       "      <td>332.000000</td>\n",
       "      <td>418.000000</td>\n",
       "      <td>418.000000</td>\n",
       "      <td>418</td>\n",
       "      <td>417.000000</td>\n",
       "      <td>91</td>\n",
       "      <td>418</td>\n",
       "    </tr>\n",
       "    <tr>\n",
       "      <th>unique</th>\n",
       "      <td>NaN</td>\n",
       "      <td>NaN</td>\n",
       "      <td>418</td>\n",
       "      <td>2</td>\n",
       "      <td>NaN</td>\n",
       "      <td>NaN</td>\n",
       "      <td>NaN</td>\n",
       "      <td>363</td>\n",
       "      <td>NaN</td>\n",
       "      <td>76</td>\n",
       "      <td>3</td>\n",
       "    </tr>\n",
       "    <tr>\n",
       "      <th>top</th>\n",
       "      <td>NaN</td>\n",
       "      <td>NaN</td>\n",
       "      <td>Loring, Mr. Joseph Holland</td>\n",
       "      <td>male</td>\n",
       "      <td>NaN</td>\n",
       "      <td>NaN</td>\n",
       "      <td>NaN</td>\n",
       "      <td>PC 17608</td>\n",
       "      <td>NaN</td>\n",
       "      <td>B57 B59 B63 B66</td>\n",
       "      <td>S</td>\n",
       "    </tr>\n",
       "    <tr>\n",
       "      <th>freq</th>\n",
       "      <td>NaN</td>\n",
       "      <td>NaN</td>\n",
       "      <td>1</td>\n",
       "      <td>266</td>\n",
       "      <td>NaN</td>\n",
       "      <td>NaN</td>\n",
       "      <td>NaN</td>\n",
       "      <td>5</td>\n",
       "      <td>NaN</td>\n",
       "      <td>3</td>\n",
       "      <td>270</td>\n",
       "    </tr>\n",
       "    <tr>\n",
       "      <th>mean</th>\n",
       "      <td>1100.500000</td>\n",
       "      <td>2.265550</td>\n",
       "      <td>NaN</td>\n",
       "      <td>NaN</td>\n",
       "      <td>30.272590</td>\n",
       "      <td>0.447368</td>\n",
       "      <td>0.392344</td>\n",
       "      <td>NaN</td>\n",
       "      <td>35.627188</td>\n",
       "      <td>NaN</td>\n",
       "      <td>NaN</td>\n",
       "    </tr>\n",
       "    <tr>\n",
       "      <th>std</th>\n",
       "      <td>120.810458</td>\n",
       "      <td>0.841838</td>\n",
       "      <td>NaN</td>\n",
       "      <td>NaN</td>\n",
       "      <td>14.181209</td>\n",
       "      <td>0.896760</td>\n",
       "      <td>0.981429</td>\n",
       "      <td>NaN</td>\n",
       "      <td>55.907576</td>\n",
       "      <td>NaN</td>\n",
       "      <td>NaN</td>\n",
       "    </tr>\n",
       "    <tr>\n",
       "      <th>min</th>\n",
       "      <td>892.000000</td>\n",
       "      <td>1.000000</td>\n",
       "      <td>NaN</td>\n",
       "      <td>NaN</td>\n",
       "      <td>0.170000</td>\n",
       "      <td>0.000000</td>\n",
       "      <td>0.000000</td>\n",
       "      <td>NaN</td>\n",
       "      <td>0.000000</td>\n",
       "      <td>NaN</td>\n",
       "      <td>NaN</td>\n",
       "    </tr>\n",
       "    <tr>\n",
       "      <th>25%</th>\n",
       "      <td>996.250000</td>\n",
       "      <td>1.000000</td>\n",
       "      <td>NaN</td>\n",
       "      <td>NaN</td>\n",
       "      <td>21.000000</td>\n",
       "      <td>0.000000</td>\n",
       "      <td>0.000000</td>\n",
       "      <td>NaN</td>\n",
       "      <td>7.895800</td>\n",
       "      <td>NaN</td>\n",
       "      <td>NaN</td>\n",
       "    </tr>\n",
       "    <tr>\n",
       "      <th>50%</th>\n",
       "      <td>1100.500000</td>\n",
       "      <td>3.000000</td>\n",
       "      <td>NaN</td>\n",
       "      <td>NaN</td>\n",
       "      <td>27.000000</td>\n",
       "      <td>0.000000</td>\n",
       "      <td>0.000000</td>\n",
       "      <td>NaN</td>\n",
       "      <td>14.454200</td>\n",
       "      <td>NaN</td>\n",
       "      <td>NaN</td>\n",
       "    </tr>\n",
       "    <tr>\n",
       "      <th>75%</th>\n",
       "      <td>1204.750000</td>\n",
       "      <td>3.000000</td>\n",
       "      <td>NaN</td>\n",
       "      <td>NaN</td>\n",
       "      <td>39.000000</td>\n",
       "      <td>1.000000</td>\n",
       "      <td>0.000000</td>\n",
       "      <td>NaN</td>\n",
       "      <td>31.500000</td>\n",
       "      <td>NaN</td>\n",
       "      <td>NaN</td>\n",
       "    </tr>\n",
       "    <tr>\n",
       "      <th>max</th>\n",
       "      <td>1309.000000</td>\n",
       "      <td>3.000000</td>\n",
       "      <td>NaN</td>\n",
       "      <td>NaN</td>\n",
       "      <td>76.000000</td>\n",
       "      <td>8.000000</td>\n",
       "      <td>9.000000</td>\n",
       "      <td>NaN</td>\n",
       "      <td>512.329200</td>\n",
       "      <td>NaN</td>\n",
       "      <td>NaN</td>\n",
       "    </tr>\n",
       "  </tbody>\n",
       "</table>\n",
       "</div>"
      ],
      "text/plain": [
       "        PassengerId      Pclass                        Name   Sex         Age  \\\n",
       "count    418.000000  418.000000                         418   418  332.000000   \n",
       "unique          NaN         NaN                         418     2         NaN   \n",
       "top             NaN         NaN  Loring, Mr. Joseph Holland  male         NaN   \n",
       "freq            NaN         NaN                           1   266         NaN   \n",
       "mean    1100.500000    2.265550                         NaN   NaN   30.272590   \n",
       "std      120.810458    0.841838                         NaN   NaN   14.181209   \n",
       "min      892.000000    1.000000                         NaN   NaN    0.170000   \n",
       "25%      996.250000    1.000000                         NaN   NaN   21.000000   \n",
       "50%     1100.500000    3.000000                         NaN   NaN   27.000000   \n",
       "75%     1204.750000    3.000000                         NaN   NaN   39.000000   \n",
       "max     1309.000000    3.000000                         NaN   NaN   76.000000   \n",
       "\n",
       "             SibSp       Parch    Ticket        Fare            Cabin Embarked  \n",
       "count   418.000000  418.000000       418  417.000000               91      418  \n",
       "unique         NaN         NaN       363         NaN               76        3  \n",
       "top            NaN         NaN  PC 17608         NaN  B57 B59 B63 B66        S  \n",
       "freq           NaN         NaN         5         NaN                3      270  \n",
       "mean      0.447368    0.392344       NaN   35.627188              NaN      NaN  \n",
       "std       0.896760    0.981429       NaN   55.907576              NaN      NaN  \n",
       "min       0.000000    0.000000       NaN    0.000000              NaN      NaN  \n",
       "25%       0.000000    0.000000       NaN    7.895800              NaN      NaN  \n",
       "50%       0.000000    0.000000       NaN   14.454200              NaN      NaN  \n",
       "75%       1.000000    0.000000       NaN   31.500000              NaN      NaN  \n",
       "max       8.000000    9.000000       NaN  512.329200              NaN      NaN  "
      ]
     },
     "execution_count": 4,
     "metadata": {},
     "output_type": "execute_result"
    }
   ],
   "source": [
    "test.describe(include=\"all\")"
   ]
  },
  {
   "cell_type": "markdown",
   "execution_count": null,
   "metadata": {},
   "source": [
    "## 3) Initial Data Analysis"
   ]
  },
  {
   "cell_type": "markdown",
   "execution_count": null,
   "metadata": {},
   "source": [
    "### our data\n",
    "the only difference between train and test dataset is that test dataset has **no** \"Survived\" label, since that's what we are trying to predict."
   ]
  },
  {
   "cell_type": "code",
   "execution_count": 5,
   "metadata": {},
   "outputs": [
    {
     "name": "stdout",
     "output_type": "stream",
     "text": [
      "train dataset has 891 passengers\n",
      "test dataset has 418 passengers\n"
     ]
    }
   ],
   "source": [
    "print(\"train dataset has \" + str(len(data)) + \" passengers\")\n",
    "print(\"test dataset has \" + str(len(test)) + \" passengers\")"
   ]
  },
  {
   "cell_type": "code",
   "execution_count": 6,
   "metadata": {},
   "outputs": [
    {
     "data": {
      "text/plain": [
       "PassengerId      int64\n",
       "Survived         int64\n",
       "Pclass           int64\n",
       "Name            object\n",
       "Sex             object\n",
       "Age            float64\n",
       "SibSp            int64\n",
       "Parch            int64\n",
       "Ticket          object\n",
       "Fare           float64\n",
       "Cabin           object\n",
       "Embarked        object\n",
       "dtype: object"
      ]
     },
     "execution_count": 6,
     "metadata": {},
     "output_type": "execute_result"
    }
   ],
   "source": [
    "# exploring our feature data types\n",
    "data.dtypes"
   ]
  },
  {
   "cell_type": "code",
   "execution_count": 7,
   "metadata": {},
   "outputs": [
    {
     "data": {
      "text/html": [
       "<div>\n",
       "<style scoped>\n",
       "    .dataframe tbody tr th:only-of-type {\n",
       "        vertical-align: middle;\n",
       "    }\n",
       "\n",
       "    .dataframe tbody tr th {\n",
       "        vertical-align: top;\n",
       "    }\n",
       "\n",
       "    .dataframe thead th {\n",
       "        text-align: right;\n",
       "    }\n",
       "</style>\n",
       "<table border=\"1\" class=\"dataframe\">\n",
       "  <thead>\n",
       "    <tr style=\"text-align: right;\">\n",
       "      <th></th>\n",
       "      <th>train</th>\n",
       "      <th>test</th>\n",
       "    </tr>\n",
       "  </thead>\n",
       "  <tbody>\n",
       "    <tr>\n",
       "      <th>Age</th>\n",
       "      <td>177</td>\n",
       "      <td>86.0</td>\n",
       "    </tr>\n",
       "    <tr>\n",
       "      <th>Cabin</th>\n",
       "      <td>687</td>\n",
       "      <td>327.0</td>\n",
       "    </tr>\n",
       "    <tr>\n",
       "      <th>Embarked</th>\n",
       "      <td>2</td>\n",
       "      <td>0.0</td>\n",
       "    </tr>\n",
       "    <tr>\n",
       "      <th>Fare</th>\n",
       "      <td>0</td>\n",
       "      <td>1.0</td>\n",
       "    </tr>\n",
       "    <tr>\n",
       "      <th>Name</th>\n",
       "      <td>0</td>\n",
       "      <td>0.0</td>\n",
       "    </tr>\n",
       "    <tr>\n",
       "      <th>Parch</th>\n",
       "      <td>0</td>\n",
       "      <td>0.0</td>\n",
       "    </tr>\n",
       "    <tr>\n",
       "      <th>PassengerId</th>\n",
       "      <td>0</td>\n",
       "      <td>0.0</td>\n",
       "    </tr>\n",
       "    <tr>\n",
       "      <th>Pclass</th>\n",
       "      <td>0</td>\n",
       "      <td>0.0</td>\n",
       "    </tr>\n",
       "    <tr>\n",
       "      <th>Sex</th>\n",
       "      <td>0</td>\n",
       "      <td>0.0</td>\n",
       "    </tr>\n",
       "    <tr>\n",
       "      <th>SibSp</th>\n",
       "      <td>0</td>\n",
       "      <td>0.0</td>\n",
       "    </tr>\n",
       "    <tr>\n",
       "      <th>Survived</th>\n",
       "      <td>0</td>\n",
       "      <td>NaN</td>\n",
       "    </tr>\n",
       "    <tr>\n",
       "      <th>Ticket</th>\n",
       "      <td>0</td>\n",
       "      <td>0.0</td>\n",
       "    </tr>\n",
       "  </tbody>\n",
       "</table>\n",
       "</div>"
      ],
      "text/plain": [
       "             train   test\n",
       "Age            177   86.0\n",
       "Cabin          687  327.0\n",
       "Embarked         2    0.0\n",
       "Fare             0    1.0\n",
       "Name             0    0.0\n",
       "Parch            0    0.0\n",
       "PassengerId      0    0.0\n",
       "Pclass           0    0.0\n",
       "Sex              0    0.0\n",
       "SibSp            0    0.0\n",
       "Survived         0    NaN\n",
       "Ticket           0    0.0"
      ]
     },
     "execution_count": 7,
     "metadata": {},
     "output_type": "execute_result"
    }
   ],
   "source": [
    "# see how many feature and label data are missing for both train and test\n",
    "pd.DataFrame({\"train\": data.isna().sum(),\n",
    "              \"test\": test.isna().sum()})"
   ]
  },
  {
   "cell_type": "markdown",
   "execution_count": null,
   "metadata": {},
   "source": [
    "### Data Summary \n",
    "\n",
    "1. Raw features: \n",
    "\n",
    "  * Pclass, \n",
    "  * Name, \n",
    "  * Sex, \n",
    "  * Age, \n",
    "  * Sibsp (no. of siblings), \n",
    "  * Parch (no. of parent/child), \n",
    "  * Ticket, \n",
    "  * Fare, \n",
    "  * Cabin, \n",
    "  * Embarked\n",
    "\n",
    " \n",
    "2. We are trying to use our features to predict our label - \"Survived\"\n",
    "\n",
    " \n",
    "3. The only difference between train and test dataset is that test dataset has no \"Survived\" label, since that's what we are trying to predict.\n",
    "\n",
    "\n",
    "4. There are 891 dataset in train and 418 in test, which is on the low side.\n",
    "\n",
    " \n",
    "5. Data is relatively complete - with most (77%) missing \"Cabin\" data, and some (20%) missing \"Age\", and a handful missing \"Embarked\" and \"Fare\".\n",
    "\n",
    "6. Features Data Type:\n",
    "\n",
    "  * Numerical: Age (Continuous), Fare (Continuous), SibSp (Discrete), Parch (Discrete)\n",
    "  * Categorical: Survived, Sex, Embarked, Pclass, Ticket, Cabin"
   ]
  },
  {
   "cell_type": "markdown",
   "execution_count": null,
   "metadata": {},
   "source": [
    "## 4) Feature Analysis\n",
    "\n",
    "We want to go through each feature to get a sense of the data and form some baseline hypothesis"
   ]
  },
  {
   "cell_type": "markdown",
   "execution_count": null,
   "metadata": {},
   "source": [
    "### Sex Feature\n",
    "We want to see if there is a difference in survival rate between sexes"
   ]
  },
  {
   "cell_type": "code",
   "execution_count": 8,
   "metadata": {},
   "outputs": [
    {
     "data": {
      "image/png": "[encoded data removed]",
      "text/plain": [
       "<Figure size 432x288 with 1 Axes>"
      ]
     },
     "metadata": {
      "needs_background": "light"
     },
     "output_type": "display_data"
    }
   ],
   "source": [
    "sns.barplot(x=\"Sex\", y=\"Survived\", data=data);"
   ]
  },
  {
   "cell_type": "code",
   "execution_count": 9,
   "metadata": {},
   "outputs": [
    {
     "name": "stdout",
     "output_type": "stream",
     "text": [
      "Percentage of females who survived: 74.2 %\n",
      "Percentage of males who survived: 18.89 %\n"
     ]
    }
   ],
   "source": [
    "print(\"Percentage of females who survived:\", str(round(data[\"Survived\"][data[\"Sex\"] == 'female'].value_counts(normalize = True)[1]*100, 2)),\"%\")\n",
    "\n",
    "print(\"Percentage of males who survived:\", str(round(data[\"Survived\"][data[\"Sex\"] == 'male'].value_counts(normalize = True)[1]*100, 2)),\"%\")"
   ]
  },
  {
   "cell_type": "markdown",
   "execution_count": null,
   "metadata": {},
   "source": [
    "\"Sex\" appears to be an important feature. Female has a significantly higher rate of survival."
   ]
  },
  {
   "cell_type": "markdown",
   "execution_count": null,
   "metadata": {},
   "source": [
    "### Age Feature"
   ]
  },
  {
   "cell_type": "code",
   "execution_count": 10,
   "metadata": {},
   "outputs": [
    {
     "name": "stdout",
     "output_type": "stream",
     "text": [
      "Passengers by Age Group in train set\n",
      "senior: 22\n",
      "adult: 128\n",
      "youngadult: 385\n",
      "teenager: 110\n",
      "child: 29\n",
      "toddler: 26\n",
      "baby: 14\n",
      "missing: 177\n",
      "total: 891\n"
     ]
    }
   ],
   "source": [
    "senior = data[\"Age\"][data[\"Age\"] > 60].count()\n",
    "adult = data[\"Age\"][data[\"Age\"] <= 60][data[\"Age\"] > 40].count()\n",
    "youngadult = data[\"Age\"][data[\"Age\"] <= 40][data[\"Age\"] > 20].count()\n",
    "teenager = data[\"Age\"][data[\"Age\"] <= 20][data[\"Age\"] > 12].count()\n",
    "child = data[\"Age\"][data[\"Age\"] <= 12][data[\"Age\"] > 4].count()\n",
    "toddler = data[\"Age\"][data[\"Age\"] <= 4][data[\"Age\"] > 1].count()\n",
    "baby = data[\"Age\"][data[\"Age\"] <= 1][data[\"Age\"] >= 0].count()\n",
    "missing = data[\"Age\"].isna().sum()\n",
    "total = senior+adult+youngadult+teenager+child+toddler+baby+missing\n",
    "\n",
    "print(\"Passengers by Age Group in train set\")\n",
    "print(\"senior:\", senior)\n",
    "print(\"adult:\", adult)\n",
    "print(\"youngadult:\", youngadult)\n",
    "print(\"teenager:\", teenager)\n",
    "print(\"child:\", child)\n",
    "print(\"toddler:\", toddler)\n",
    "print(\"baby:\", baby)\n",
    "print(\"missing:\", missing)\n",
    "print(\"total:\", total)\n"
   ]
  },
  {
   "cell_type": "code",
   "execution_count": 11,
   "metadata": {},
   "outputs": [
    {
     "name": "stdout",
     "output_type": "stream",
     "text": [
      "Percentage of senior who survived: 22.73 %\n",
      "Percentage of adult who survived: 39.06 %\n",
      "Percentage of youngadult who survived: 39.74 %\n",
      "Percentage of teen who survived: 38.18 %\n",
      "Percentage of child who survived: 44.83 %\n",
      "Percentage of toddler who survived: 57.69 %\n",
      "Percentage of baby who survived: 85.71 %\n",
      "Percentage of age-missing who survived: 29.38 %\n"
     ]
    }
   ],
   "source": [
    "print(\"Percentage of senior who survived:\", str(round(data[\"Survived\"][data[\"Age\"] > 60].value_counts(normalize = True)[1]*100, 2)),\"%\")\n",
    "print(\"Percentage of adult who survived:\", str(round(data[\"Survived\"][data[\"Age\"] <= 60][data[\"Age\"] > 40].value_counts(normalize = True)[1]*100, 2)),\"%\")\n",
    "print(\"Percentage of youngadult who survived:\", str(round(data[\"Survived\"][data[\"Age\"] <= 40][data[\"Age\"] > 20].value_counts(normalize = True)[1]*100, 2)),\"%\")\n",
    "print(\"Percentage of teen who survived:\", str(round(data[\"Survived\"][data[\"Age\"] <= 20][data[\"Age\"] > 12].value_counts(normalize = True)[1]*100, 2)),\"%\")\n",
    "print(\"Percentage of child who survived:\", str(round(data[\"Survived\"][data[\"Age\"] <= 12][data[\"Age\"] > 4].value_counts(normalize = True)[1]*100, 2)),\"%\")\n",
    "print(\"Percentage of toddler who survived:\", str(round(data[\"Survived\"][data[\"Age\"] <= 4][data[\"Age\"] > 1].value_counts(normalize = True)[1]*100, 2)),\"%\")\n",
    "print(\"Percentage of baby who survived:\", str(round(data[\"Survived\"][data[\"Age\"] <= 1][data[\"Age\"] > 0].value_counts(normalize = True)[1]*100, 2)),\"%\")\n",
    "print(\"Percentage of age-missing who survived:\", str(round(data[\"Survived\"][data[\"Age\"].isna()].value_counts(normalize = True)[1]*100, 2)),\"%\")\n"
   ]
  },
  {
   "cell_type": "markdown",
   "execution_count": null,
   "metadata": {},
   "source": [
    "A few things to note:\n",
    "1. younger passenger has a higher rate of survival - which makes sense since younger passengers might be prioritised in rescue boat\n",
    "2. those with age missing has lower survival rate than other age group except for senior. Perhaps we can put them in a category on their own."
   ]
  },
  {
   "cell_type": "markdown",
   "execution_count": null,
   "metadata": {},
   "source": [
    "### Pclass feature\n",
    "Pclass refers to the passenger class - 1,2,3 with 1 being the highest."
   ]
  },
  {
   "cell_type": "code",
   "execution_count": 12,
   "metadata": {},
   "outputs": [
    {
     "name": "stdout",
     "output_type": "stream",
     "text": [
      "Percentage of Pclass = 1 who survived: 62.96296296296296\n",
      "Percentage of Pclass = 2 who survived: 47.28260869565217\n",
      "Percentage of Pclass = 3 who survived: 24.236252545824847\n"
     ]
    },
    {
     "data": {
      "image/png": "[encoded data removed]",
      "text/plain": [
       "<Figure size 432x288 with 1 Axes>"
      ]
     },
     "metadata": {
      "needs_background": "light"
     },
     "output_type": "display_data"
    }
   ],
   "source": [
    "\n",
    "sns.barplot(x=\"Pclass\", y=\"Survived\", data=data)\n",
    "\n",
    "#print percentage of people by Pclass that survived\n",
    "print(\"Percentage of Pclass = 1 who survived:\", data[\"Survived\"][data[\"Pclass\"] == 1].value_counts(normalize = True)[1]*100)\n",
    "\n",
    "print(\"Percentage of Pclass = 2 who survived:\", data[\"Survived\"][data[\"Pclass\"] == 2].value_counts(normalize = True)[1]*100)\n",
    "\n",
    "print(\"Percentage of Pclass = 3 who survived:\", data[\"Survived\"][data[\"Pclass\"] == 3].value_counts(normalize = True)[1]*100)"
   ]
  },
  {
   "cell_type": "markdown",
   "execution_count": null,
   "metadata": {},
   "source": [
    "### Fare feature\n",
    "We can test if passengers paying higher fare has higher rate of survival.\n",
    "We can also see if it makes sense to group fare into different categories; it is now a continuous variable"
   ]
  },
  {
   "cell_type": "code",
   "execution_count": 13,
   "metadata": {},
   "outputs": [
    {
     "data": {
      "text/plain": [
       "(0.0, 512.3292, 32.2042079685746)"
      ]
     },
     "execution_count": 13,
     "metadata": {},
     "output_type": "execute_result"
    }
   ],
   "source": [
    "data[\"Fare\"].min(), data[\"Fare\"].max(), data[\"Fare\"].mean()"
   ]
  },
  {
   "cell_type": "code",
   "execution_count": 14,
   "metadata": {},
   "outputs": [
    {
     "data": {
      "image/png": "[encoded data removed]",
      "text/plain": [
       "<Figure size 432x288 with 1 Axes>"
      ]
     },
     "metadata": {
      "needs_background": "light"
     },
     "output_type": "display_data"
    }
   ],
   "source": [
    "data[\"Fare\"].plot.hist();"
   ]
  },
  {
   "cell_type": "code",
   "execution_count": 15,
   "metadata": {},
   "outputs": [
    {
     "data": {
      "text/plain": [
       "(20, 140, 174, 557)"
      ]
     },
     "execution_count": 15,
     "metadata": {},
     "output_type": "execute_result"
    }
   ],
   "source": [
    "# grouping fare\n",
    "high_fare = data[\"Fare\"][data[\"Fare\"] > 200].count()\n",
    "mid_fare = data[\"Fare\"][data[\"Fare\"] <= 200][data[\"Fare\"] > 50].count()\n",
    "low_fare = data[\"Fare\"][data[\"Fare\"] <= 50][data[\"Fare\"] > 25].count()\n",
    "dirt_fare = data[\"Fare\"][data[\"Fare\"] <= 25].count()\n",
    "\n",
    "# print(\"high: \", high_fare)\n",
    "high_fare, mid_fare, low_fare, dirt_fare\n",
    "\n"
   ]
  },
  {
   "cell_type": "code",
   "execution_count": 16,
   "metadata": {},
   "outputs": [
    {
     "name": "stdout",
     "output_type": "stream",
     "text": [
      "Percentage of high-fare who survived: 70.0\n",
      "Percentage of mid-fare who survived: 67.85714285714286\n",
      "Percentage of low-fare who survived: 41.95402298850575\n",
      "Percentage of dirt-fare who survived: 28.725314183123878\n"
     ]
    }
   ],
   "source": [
    "# testing hypothesis: percentage of high-fare group who survived\n",
    "print(\"Percentage of high-fare who survived:\", data[\"Survived\"][data[\"Fare\"] > 200].value_counts(normalize = True)[1]*100)\n",
    "print(\"Percentage of mid-fare who survived:\", data[\"Survived\"][data[\"Fare\"] <= 200][data[\"Fare\"] > 50].value_counts(normalize = True)[1]*100)\n",
    "print(\"Percentage of low-fare who survived:\", data[\"Survived\"][data[\"Fare\"] <= 50][data[\"Fare\"] > 25].value_counts(normalize = True)[1]*100)\n",
    "print(\"Percentage of dirt-fare who survived:\", data[\"Survived\"][data[\"Fare\"] <= 25].value_counts(normalize = True)[1]*100)"
   ]
  },
  {
   "cell_type": "markdown",
   "execution_count": null,
   "metadata": {},
   "source": [
    "Higher-fared passengers have significantly higher survival rate"
   ]
  },
  {
   "cell_type": "markdown",
   "execution_count": null,
   "metadata": {},
   "source": [
    "### SibSp features\n",
    "Number of siblings. Not sure what hypothesis we can form out of this, lets explore!"
   ]
  },
  {
   "cell_type": "code",
   "execution_count": 17,
   "metadata": {},
   "outputs": [
    {
     "data": {
      "image/png": "[encoded data removed]",
      "text/plain": [
       "<Figure size 432x288 with 1 Axes>"
      ]
     },
     "metadata": {
      "needs_background": "light"
     },
     "output_type": "display_data"
    }
   ],
   "source": [
    "# survival rate by no. of siblings\n",
    "sns.barplot(x=\"SibSp\", y=\"Survived\", data=data);"
   ]
  },
  {
   "cell_type": "markdown",
   "execution_count": null,
   "metadata": {},
   "source": [
    "There's a marked difference between those with 1-2 siblings vs those with more or 0 sibling.\n",
    "\n",
    "Perhaps when a family has many siblings, someone needed to sacrifice."
   ]
  },
  {
   "cell_type": "markdown",
   "execution_count": null,
   "metadata": {},
   "source": [
    "### Parch feature\n",
    "No. of Parent/Child\n"
   ]
  },
  {
   "cell_type": "code",
   "execution_count": 18,
   "metadata": {},
   "outputs": [
    {
     "data": {
      "image/png": "[encoded data removed]",
      "text/plain": [
       "<Figure size 432x288 with 1 Axes>"
      ]
     },
     "metadata": {
      "needs_background": "light"
     },
     "output_type": "display_data"
    }
   ],
   "source": [
    "sns.barplot(x=\"Parch\", y=\"Survived\", data=data);"
   ]
  },
  {
   "cell_type": "markdown",
   "execution_count": null,
   "metadata": {},
   "source": [
    "#### Cabin feature\n",
    "\n",
    "Cabin has the most missing data. And its data might overlap with \"Pclass\""
   ]
  },
  {
   "cell_type": "code",
   "execution_count": 19,
   "metadata": {},
   "outputs": [
    {
     "data": {
      "text/plain": [
       "(204, 687)"
      ]
     },
     "execution_count": 19,
     "metadata": {},
     "output_type": "execute_result"
    }
   ],
   "source": [
    "has_cabin = data[\"Cabin\"][data[\"Cabin\"] != None].count()\n",
    "no_cabin = data[\"Cabin\"].isna().sum()\n",
    "has_cabin, no_cabin"
   ]
  },
  {
   "cell_type": "code",
   "execution_count": 20,
   "metadata": {},
   "outputs": [
    {
     "name": "stdout",
     "output_type": "stream",
     "text": [
      "Percentage of has_cabin who survived: 38.38383838383838\n",
      "Percentage of no_cabin who survived: 29.985443959243085\n"
     ]
    }
   ],
   "source": [
    "# explore survival rate of those with recorded cabins vs without\n",
    "\n",
    "print(\"Percentage of has_cabin who survived:\", data[\"Survived\"][data[\"Cabin\"] != None].value_counts(normalize = True)[1]*100)\n",
    "\n",
    "print(\"Percentage of no_cabin who survived:\", data[\"Survived\"][data[\"Cabin\"].isna()].value_counts(normalize = True)[1]*100)"
   ]
  },
  {
   "cell_type": "markdown",
   "execution_count": null,
   "metadata": {},
   "source": [
    "There seems to be a difference between those with recorded cabins and those without. We can consider grouping them into boolean of 1 and 0."
   ]
  },
  {
   "cell_type": "code",
   "execution_count": 21,
   "metadata": {},
   "outputs": [],
   "source": [
    "# explore survival rate by cabin (A to G)\n",
    "# we are filling up missing with \"Z\" since str.contains doesn't work on missing value\n",
    "data[\"Cabin\"].fillna(\"Z\", inplace=True)"
   ]
  },
  {
   "cell_type": "code",
   "execution_count": 22,
   "metadata": {},
   "outputs": [
    {
     "name": "stdout",
     "output_type": "stream",
     "text": [
      "% of cabin class A who survived:  47.0 % out of  15 passengers\n",
      "% of cabin class B who survived:  74.0 % out of  47 passengers\n",
      "% of cabin class C who survived:  59.0 % out of  59 passengers\n",
      "% of cabin class D who survived:  76.0 % out of  33 passengers\n",
      "% of cabin class E who survived:  76.0 % out of  33 passengers\n",
      "% of cabin class F who survived:  62.0 % out of  13 passengers\n",
      "% of cabin class G who survived:  29.0 % out of  7 passengers\n",
      "% of cabin class Z who survived:  30.0 % out of  687 passengers\n"
     ]
    }
   ],
   "source": [
    "cabin_class = [\"A\", \"B\", \"C\", \"D\", \"E\", \"F\", \"G\", \"Z\"]\n",
    "\n",
    "for cabin in cabin_class:\n",
    "    print(\"% of cabin class\", cabin, \"who survived: \", \n",
    "          str(round(data[\"Survived\"][data[\"Cabin\"].str.contains(cabin)].value_counts(normalize = True)[1]*100)), \"%\",\n",
    "          \"out of \", data[\"Cabin\"].str.contains(cabin).sum(), \"passengers\")"
   ]
  },
  {
   "cell_type": "markdown",
   "execution_count": null,
   "metadata": {},
   "source": [
    "The sample size for each cabin size is pretty small, so it might not make sense to classify based on different classes since it might result in overfitting? So for now, we will stick to classifying by has_cabin and no_cabin."
   ]
  },
  {
   "cell_type": "markdown",
   "execution_count": null,
   "metadata": {},
   "source": [
    "### Embarked feature\n",
    "Embarked means where did the passenger come on board - there are 3 categories: Southampton (S), Cherbourg (C), and Queenstown (Q).\n",
    "\n"
   ]
  },
  {
   "cell_type": "code",
   "execution_count": 23,
   "metadata": {},
   "outputs": [
    {
     "name": "stdout",
     "output_type": "stream",
     "text": [
      "Number of people embarking in Southampton (S): 644\n",
      "Number of people embarking in Cherbourg (C): 168\n",
      "Number of people embarking in Queenstown (Q): 77\n"
     ]
    }
   ],
   "source": [
    "print(\"Number of people embarking in Southampton (S):\", data[\"Embarked\"][data[\"Embarked\"] == \"S\"].count())\n",
    "\n",
    "print(\"Number of people embarking in Cherbourg (C):\", data[\"Embarked\"][data[\"Embarked\"] == \"C\"].count())\n",
    "\n",
    "print(\"Number of people embarking in Queenstown (Q):\", data[\"Embarked\"][data[\"Embarked\"] == \"Q\"].count())"
   ]
  },
  {
   "cell_type": "markdown",
   "execution_count": null,
   "metadata": {},
   "source": [
    "since the majority of people embarked from S, we will fill up missing value with S as well"
   ]
  },
  {
   "cell_type": "code",
   "execution_count": 24,
   "metadata": {},
   "outputs": [
    {
     "name": "stdout",
     "output_type": "stream",
     "text": [
      "Percentage of S who survived: 33.69565217391305\n",
      "Percentage of C who survived: 55.35714285714286\n",
      "Percentage of Q who survived: 38.961038961038966\n"
     ]
    }
   ],
   "source": [
    "print(\"Percentage of S who survived:\", data[\"Survived\"][data[\"Embarked\"] == \"S\"].value_counts(normalize = True)[1]*100)\n",
    "print(\"Percentage of C who survived:\", data[\"Survived\"][data[\"Embarked\"] == \"C\"].value_counts(normalize = True)[1]*100)\n",
    "print(\"Percentage of Q who survived:\", data[\"Survived\"][data[\"Embarked\"] == \"Q\"].value_counts(normalize = True)[1]*100)"
   ]
  },
  {
   "cell_type": "markdown",
   "execution_count": null,
   "metadata": {},
   "source": [
    "### Name feature\n",
    "\n",
    "On first glance, name should not matter in a passenger's survival rate.\n",
    "\n",
    "However, our name data contains titles such as \"Countess, Rev, Don, Master\" should might be a signifer for social status."
   ]
  },
  {
   "cell_type": "code",
   "execution_count": 25,
   "metadata": {},
   "outputs": [
    {
     "data": {
      "text/html": [
       "<div>\n",
       "<style scoped>\n",
       "    .dataframe tbody tr th:only-of-type {\n",
       "        vertical-align: middle;\n",
       "    }\n",
       "\n",
       "    .dataframe tbody tr th {\n",
       "        vertical-align: top;\n",
       "    }\n",
       "\n",
       "    .dataframe thead th {\n",
       "        text-align: right;\n",
       "    }\n",
       "</style>\n",
       "<table border=\"1\" class=\"dataframe\">\n",
       "  <thead>\n",
       "    <tr style=\"text-align: right;\">\n",
       "      <th>Sex</th>\n",
       "      <th>female</th>\n",
       "      <th>male</th>\n",
       "    </tr>\n",
       "    <tr>\n",
       "      <th>Title</th>\n",
       "      <th></th>\n",
       "      <th></th>\n",
       "    </tr>\n",
       "  </thead>\n",
       "  <tbody>\n",
       "    <tr>\n",
       "      <th>Capt</th>\n",
       "      <td>0</td>\n",
       "      <td>1</td>\n",
       "    </tr>\n",
       "    <tr>\n",
       "      <th>Col</th>\n",
       "      <td>0</td>\n",
       "      <td>2</td>\n",
       "    </tr>\n",
       "    <tr>\n",
       "      <th>Countess</th>\n",
       "      <td>1</td>\n",
       "      <td>0</td>\n",
       "    </tr>\n",
       "    <tr>\n",
       "      <th>Don</th>\n",
       "      <td>0</td>\n",
       "      <td>1</td>\n",
       "    </tr>\n",
       "    <tr>\n",
       "      <th>Dr</th>\n",
       "      <td>1</td>\n",
       "      <td>6</td>\n",
       "    </tr>\n",
       "    <tr>\n",
       "      <th>Jonkheer</th>\n",
       "      <td>0</td>\n",
       "      <td>1</td>\n",
       "    </tr>\n",
       "    <tr>\n",
       "      <th>Lady</th>\n",
       "      <td>1</td>\n",
       "      <td>0</td>\n",
       "    </tr>\n",
       "    <tr>\n",
       "      <th>Major</th>\n",
       "      <td>0</td>\n",
       "      <td>2</td>\n",
       "    </tr>\n",
       "    <tr>\n",
       "      <th>Master</th>\n",
       "      <td>0</td>\n",
       "      <td>40</td>\n",
       "    </tr>\n",
       "    <tr>\n",
       "      <th>Miss</th>\n",
       "      <td>182</td>\n",
       "      <td>0</td>\n",
       "    </tr>\n",
       "    <tr>\n",
       "      <th>Mlle</th>\n",
       "      <td>2</td>\n",
       "      <td>0</td>\n",
       "    </tr>\n",
       "    <tr>\n",
       "      <th>Mme</th>\n",
       "      <td>1</td>\n",
       "      <td>0</td>\n",
       "    </tr>\n",
       "    <tr>\n",
       "      <th>Mr</th>\n",
       "      <td>0</td>\n",
       "      <td>517</td>\n",
       "    </tr>\n",
       "    <tr>\n",
       "      <th>Mrs</th>\n",
       "      <td>125</td>\n",
       "      <td>0</td>\n",
       "    </tr>\n",
       "    <tr>\n",
       "      <th>Ms</th>\n",
       "      <td>1</td>\n",
       "      <td>0</td>\n",
       "    </tr>\n",
       "    <tr>\n",
       "      <th>Rev</th>\n",
       "      <td>0</td>\n",
       "      <td>6</td>\n",
       "    </tr>\n",
       "    <tr>\n",
       "      <th>Sir</th>\n",
       "      <td>0</td>\n",
       "      <td>1</td>\n",
       "    </tr>\n",
       "  </tbody>\n",
       "</table>\n",
       "</div>"
      ],
      "text/plain": [
       "Sex       female  male\n",
       "Title                 \n",
       "Capt           0     1\n",
       "Col            0     2\n",
       "Countess       1     0\n",
       "Don            0     1\n",
       "Dr             1     6\n",
       "Jonkheer       0     1\n",
       "Lady           1     0\n",
       "Major          0     2\n",
       "Master         0    40\n",
       "Miss         182     0\n",
       "Mlle           2     0\n",
       "Mme            1     0\n",
       "Mr             0   517\n",
       "Mrs          125     0\n",
       "Ms             1     0\n",
       "Rev            0     6\n",
       "Sir            0     1"
      ]
     },
     "execution_count": 25,
     "metadata": {},
     "output_type": "execute_result"
    }
   ],
   "source": [
    "#create a combined group of both datasets\n",
    "combine = [data, test]\n",
    "\n",
    "#extract a title for each Name in the train and test datasets\n",
    "for dataset in combine:\n",
    "    dataset['Title'] = dataset.Name.str.extract(' ([A-Za-z]+)\\.', expand=False)\n",
    "\n",
    "pd.crosstab(data['Title'], data['Sex'])"
   ]
  },
  {
   "cell_type": "code",
   "execution_count": 26,
   "metadata": {},
   "outputs": [
    {
     "name": "stdout",
     "output_type": "stream",
     "text": [
      "Master 57.49999999999999\n",
      "Miss 69.78021978021978\n",
      "Mrs 79.2\n",
      "Dr 42.857142857142854\n"
     ]
    }
   ],
   "source": [
    "# test our hypothesis if certain titles have higher survival rate\n",
    "# note that sample size is limited, so we will only be testing a few\n",
    "\n",
    "print(\"Master\", data[\"Survived\"][data[\"Title\"] == \"Master\"].value_counts(normalize = True)[1]*100)\n",
    "print(\"Miss\", data[\"Survived\"][data[\"Title\"] == \"Miss\"].value_counts(normalize = True)[1]*100)\n",
    "print(\"Mrs\", data[\"Survived\"][data[\"Title\"] == \"Mrs\"].value_counts(normalize = True)[1]*100)\n",
    "print(\"Dr\", data[\"Survived\"][data[\"Title\"] == \"Dr\"].value_counts(normalize = True)[1]*100)"
   ]
  },
  {
   "cell_type": "markdown",
   "execution_count": null,
   "metadata": {},
   "source": [
    "From a quick look, it seems that female titles have higher survival rate. \n",
    "\n",
    "Since this information is already captured by \"Sex\" feature, we will be dropping title and name."
   ]
  },
  {
   "cell_type": "markdown",
   "execution_count": null,
   "metadata": {},
   "source": [
    "## 5) Feature Engineering\n",
    "\n",
    "Feature Engineering is the process of transforming raw data into features that better represent the underlying problem to the predictive model\n",
    "\n",
    "Now that we have explored our data, we need to prepare our data for analysis:\n",
    "1. Decide what features we want to drop / add\n",
    "2. Decide what features we want to make changes: e.g. grouping of cabin, fare, age \n",
    "3. fill missing values for Cabin, Age, Embarked, Fare\n",
    "4. change non-numerical values to numerical values"
   ]
  },
  {
   "cell_type": "code",
   "execution_count": 27,
   "metadata": {},
   "outputs": [
    {
     "name": "stdout",
     "output_type": "stream",
     "text": [
      "Index(['PassengerId', 'Survived', 'Pclass', 'Name', 'Sex', 'Age', 'SibSp',\n",
      "       'Parch', 'Ticket', 'Fare', 'Cabin', 'Embarked', 'Title'],\n",
      "      dtype='object')\n",
      "Index(['PassengerId', 'Pclass', 'Name', 'Sex', 'Age', 'SibSp', 'Parch',\n",
      "       'Ticket', 'Fare', 'Cabin', 'Embarked', 'Title'],\n",
      "      dtype='object')\n"
     ]
    }
   ],
   "source": [
    "#get a list of the features within the dataset\n",
    "print(data.columns)\n",
    "print(test.columns)"
   ]
  },
  {
   "cell_type": "markdown",
   "execution_count": null,
   "metadata": {},
   "source": [
    "### Splitting our data into X and y \n",
    "\n",
    "* y is our label - \"Survived\"\n",
    "* X is our features"
   ]
  },
  {
   "cell_type": "code",
   "execution_count": 28,
   "metadata": {},
   "outputs": [],
   "source": [
    "# Split into X and y\n",
    "X = data.drop(\"Survived\", axis=1)\n",
    "y = data[\"Survived\"]"
   ]
  },
  {
   "cell_type": "markdown",
   "execution_count": null,
   "metadata": {},
   "source": [
    "### Build data transform pipeline\n",
    "We want to build a function that can transform our data - so that we can use the same function to apply to train, validation, and eventually test set,"
   ]
  },
  {
   "cell_type": "code",
   "execution_count": 29,
   "metadata": {},
   "outputs": [],
   "source": [
    "# writing our function\n",
    "\n",
    "from sklearn.pipeline import Pipeline\n",
    "from sklearn.preprocessing import OneHotEncoder\n",
    "from sklearn.compose import ColumnTransformer\n",
    "\n",
    "def transform_data(data):\n",
    "    # create new feature: HasCabin\n",
    "    data[\"Cabin\"].fillna(\"Z\", inplace=True) # we previously filled missing with Z on train, but haven't done for test\n",
    "    data[\"HasCabin\"] = data[\"Cabin\"].str.contains(\"Z\").astype('int')\n",
    "    \n",
    "    # create new feature: AgeGroup\n",
    "    data[\"Age\"] = data[\"Age\"].fillna(-0.5)\n",
    "    bins = [-1, 0, 1, 4, 12, 20, 40, 60, np.inf]\n",
    "    labels = ['AgeMissing', 'Baby', 'Toddler', 'Child', 'Teen', 'YoungAdult', 'Adult', 'Senior']\n",
    "    data['AgeGroup'] = pd.cut(data[\"Age\"], bins, labels = labels)    \n",
    "\n",
    "    # create new feature: FareGroup\n",
    "    data[\"Fare\"] = data[\"Fare\"].fillna(-0.5)\n",
    "    bins_2 = [-1, 0, 25, 50, 200, np.inf]\n",
    "    labels_2 = ['FareMissing', 'DirtFare', 'LowFare', 'MidFare', 'HighFare']\n",
    "    data['FareGroup'] = pd.cut(data[\"Fare\"], bins_2, labels = labels_2)     \n",
    "    \n",
    "    # remove \"PassengerId\", \"Name\", \"Ticket\", \"Title\", \"Cabin\", \"Age\", \"Fare\"\n",
    "    data = data.drop(\"PassengerId\", axis=1)\n",
    "    data = data.drop(\"Name\", axis=1)\n",
    "    data = data.drop(\"Ticket\", axis=1)\n",
    "    data = data.drop(\"Title\", axis=1)\n",
    "    data = data.drop(\"Cabin\", axis=1)\n",
    "    data = data.drop(\"Age\", axis=1)\n",
    "    data = data.drop(\"Fare\", axis=1)                                                            \n",
    "    \n",
    "    # fill na with pandas\n",
    "    # HasCabin, AgeGroup, and FareGroup already filled above, so only need to fill Embarked\n",
    "    data[\"Embarked\"].fillna(data[\"Embarked\"].mode()[0], inplace=True)\n",
    "    \n",
    "    # transform \"Sex\", \"Embark\", \"AgeGroup\", \"FareGroup\", \"Pclass\", \"HasCabin\"\n",
    "    # One Hot Encoding transforms categories into different feature columns of 1 and 0\n",
    "    # note even though \"Pclass\" data is in numbers (1,2,3), they are Categorical features (instead of numerical like Age) hence we need to encode it\n",
    "    one_hot = OneHotEncoder()\n",
    "    transformer = ColumnTransformer([(\"one_hot\",\n",
    "                                      one_hot,\n",
    "                                      [\"Sex\", \"Embarked\", \"AgeGroup\", \"FareGroup\", \"Pclass\", \"HasCabin\"])],\n",
    "                                    remainder=\"passthrough\")\n",
    "    data = transformer.fit_transform(data)\n",
    "    \n",
    "    return data"
   ]
  },
  {
   "cell_type": "markdown",
   "execution_count": null,
   "metadata": {},
   "source": [
    "### Transform on X to get X_tf"
   ]
  },
  {
   "cell_type": "code",
   "execution_count": 30,
   "metadata": {},
   "outputs": [
    {
     "data": {
      "text/html": [
       "<div>\n",
       "<style scoped>\n",
       "    .dataframe tbody tr th:only-of-type {\n",
       "        vertical-align: middle;\n",
       "    }\n",
       "\n",
       "    .dataframe tbody tr th {\n",
       "        vertical-align: top;\n",
       "    }\n",
       "\n",
       "    .dataframe thead th {\n",
       "        text-align: right;\n",
       "    }\n",
       "</style>\n",
       "<table border=\"1\" class=\"dataframe\">\n",
       "  <thead>\n",
       "    <tr style=\"text-align: right;\">\n",
       "      <th></th>\n",
       "      <th>0</th>\n",
       "      <th>1</th>\n",
       "      <th>2</th>\n",
       "      <th>3</th>\n",
       "      <th>4</th>\n",
       "      <th>5</th>\n",
       "      <th>6</th>\n",
       "      <th>7</th>\n",
       "      <th>8</th>\n",
       "      <th>9</th>\n",
       "      <th>...</th>\n",
       "      <th>15</th>\n",
       "      <th>16</th>\n",
       "      <th>17</th>\n",
       "      <th>18</th>\n",
       "      <th>19</th>\n",
       "      <th>20</th>\n",
       "      <th>21</th>\n",
       "      <th>22</th>\n",
       "      <th>23</th>\n",
       "      <th>24</th>\n",
       "    </tr>\n",
       "  </thead>\n",
       "  <tbody>\n",
       "    <tr>\n",
       "      <th>0</th>\n",
       "      <td>0.0</td>\n",
       "      <td>1.0</td>\n",
       "      <td>0.0</td>\n",
       "      <td>0.0</td>\n",
       "      <td>1.0</td>\n",
       "      <td>0.0</td>\n",
       "      <td>0.0</td>\n",
       "      <td>0.0</td>\n",
       "      <td>0.0</td>\n",
       "      <td>0.0</td>\n",
       "      <td>...</td>\n",
       "      <td>0.0</td>\n",
       "      <td>0.0</td>\n",
       "      <td>0.0</td>\n",
       "      <td>0.0</td>\n",
       "      <td>0.0</td>\n",
       "      <td>1.0</td>\n",
       "      <td>0.0</td>\n",
       "      <td>1.0</td>\n",
       "      <td>1.0</td>\n",
       "      <td>0.0</td>\n",
       "    </tr>\n",
       "    <tr>\n",
       "      <th>1</th>\n",
       "      <td>1.0</td>\n",
       "      <td>0.0</td>\n",
       "      <td>1.0</td>\n",
       "      <td>0.0</td>\n",
       "      <td>0.0</td>\n",
       "      <td>0.0</td>\n",
       "      <td>0.0</td>\n",
       "      <td>0.0</td>\n",
       "      <td>0.0</td>\n",
       "      <td>0.0</td>\n",
       "      <td>...</td>\n",
       "      <td>0.0</td>\n",
       "      <td>0.0</td>\n",
       "      <td>1.0</td>\n",
       "      <td>1.0</td>\n",
       "      <td>0.0</td>\n",
       "      <td>0.0</td>\n",
       "      <td>1.0</td>\n",
       "      <td>0.0</td>\n",
       "      <td>1.0</td>\n",
       "      <td>0.0</td>\n",
       "    </tr>\n",
       "    <tr>\n",
       "      <th>2</th>\n",
       "      <td>1.0</td>\n",
       "      <td>0.0</td>\n",
       "      <td>0.0</td>\n",
       "      <td>0.0</td>\n",
       "      <td>1.0</td>\n",
       "      <td>0.0</td>\n",
       "      <td>0.0</td>\n",
       "      <td>0.0</td>\n",
       "      <td>0.0</td>\n",
       "      <td>0.0</td>\n",
       "      <td>...</td>\n",
       "      <td>0.0</td>\n",
       "      <td>0.0</td>\n",
       "      <td>0.0</td>\n",
       "      <td>0.0</td>\n",
       "      <td>0.0</td>\n",
       "      <td>1.0</td>\n",
       "      <td>0.0</td>\n",
       "      <td>1.0</td>\n",
       "      <td>0.0</td>\n",
       "      <td>0.0</td>\n",
       "    </tr>\n",
       "    <tr>\n",
       "      <th>3</th>\n",
       "      <td>1.0</td>\n",
       "      <td>0.0</td>\n",
       "      <td>0.0</td>\n",
       "      <td>0.0</td>\n",
       "      <td>1.0</td>\n",
       "      <td>0.0</td>\n",
       "      <td>0.0</td>\n",
       "      <td>0.0</td>\n",
       "      <td>0.0</td>\n",
       "      <td>0.0</td>\n",
       "      <td>...</td>\n",
       "      <td>0.0</td>\n",
       "      <td>0.0</td>\n",
       "      <td>1.0</td>\n",
       "      <td>1.0</td>\n",
       "      <td>0.0</td>\n",
       "      <td>0.0</td>\n",
       "      <td>1.0</td>\n",
       "      <td>0.0</td>\n",
       "      <td>1.0</td>\n",
       "      <td>0.0</td>\n",
       "    </tr>\n",
       "    <tr>\n",
       "      <th>4</th>\n",
       "      <td>0.0</td>\n",
       "      <td>1.0</td>\n",
       "      <td>0.0</td>\n",
       "      <td>0.0</td>\n",
       "      <td>1.0</td>\n",
       "      <td>0.0</td>\n",
       "      <td>0.0</td>\n",
       "      <td>0.0</td>\n",
       "      <td>0.0</td>\n",
       "      <td>0.0</td>\n",
       "      <td>...</td>\n",
       "      <td>0.0</td>\n",
       "      <td>0.0</td>\n",
       "      <td>0.0</td>\n",
       "      <td>0.0</td>\n",
       "      <td>0.0</td>\n",
       "      <td>1.0</td>\n",
       "      <td>0.0</td>\n",
       "      <td>1.0</td>\n",
       "      <td>0.0</td>\n",
       "      <td>0.0</td>\n",
       "    </tr>\n",
       "    <tr>\n",
       "      <th>...</th>\n",
       "      <td>...</td>\n",
       "      <td>...</td>\n",
       "      <td>...</td>\n",
       "      <td>...</td>\n",
       "      <td>...</td>\n",
       "      <td>...</td>\n",
       "      <td>...</td>\n",
       "      <td>...</td>\n",
       "      <td>...</td>\n",
       "      <td>...</td>\n",
       "      <td>...</td>\n",
       "      <td>...</td>\n",
       "      <td>...</td>\n",
       "      <td>...</td>\n",
       "      <td>...</td>\n",
       "      <td>...</td>\n",
       "      <td>...</td>\n",
       "      <td>...</td>\n",
       "      <td>...</td>\n",
       "      <td>...</td>\n",
       "      <td>...</td>\n",
       "    </tr>\n",
       "    <tr>\n",
       "      <th>886</th>\n",
       "      <td>0.0</td>\n",
       "      <td>1.0</td>\n",
       "      <td>0.0</td>\n",
       "      <td>0.0</td>\n",
       "      <td>1.0</td>\n",
       "      <td>0.0</td>\n",
       "      <td>0.0</td>\n",
       "      <td>0.0</td>\n",
       "      <td>0.0</td>\n",
       "      <td>0.0</td>\n",
       "      <td>...</td>\n",
       "      <td>0.0</td>\n",
       "      <td>0.0</td>\n",
       "      <td>0.0</td>\n",
       "      <td>0.0</td>\n",
       "      <td>1.0</td>\n",
       "      <td>0.0</td>\n",
       "      <td>0.0</td>\n",
       "      <td>1.0</td>\n",
       "      <td>0.0</td>\n",
       "      <td>0.0</td>\n",
       "    </tr>\n",
       "    <tr>\n",
       "      <th>887</th>\n",
       "      <td>1.0</td>\n",
       "      <td>0.0</td>\n",
       "      <td>0.0</td>\n",
       "      <td>0.0</td>\n",
       "      <td>1.0</td>\n",
       "      <td>0.0</td>\n",
       "      <td>0.0</td>\n",
       "      <td>0.0</td>\n",
       "      <td>0.0</td>\n",
       "      <td>0.0</td>\n",
       "      <td>...</td>\n",
       "      <td>0.0</td>\n",
       "      <td>1.0</td>\n",
       "      <td>0.0</td>\n",
       "      <td>1.0</td>\n",
       "      <td>0.0</td>\n",
       "      <td>0.0</td>\n",
       "      <td>1.0</td>\n",
       "      <td>0.0</td>\n",
       "      <td>0.0</td>\n",
       "      <td>0.0</td>\n",
       "    </tr>\n",
       "    <tr>\n",
       "      <th>888</th>\n",
       "      <td>1.0</td>\n",
       "      <td>0.0</td>\n",
       "      <td>0.0</td>\n",
       "      <td>0.0</td>\n",
       "      <td>1.0</td>\n",
       "      <td>0.0</td>\n",
       "      <td>1.0</td>\n",
       "      <td>0.0</td>\n",
       "      <td>0.0</td>\n",
       "      <td>0.0</td>\n",
       "      <td>...</td>\n",
       "      <td>0.0</td>\n",
       "      <td>0.0</td>\n",
       "      <td>0.0</td>\n",
       "      <td>0.0</td>\n",
       "      <td>0.0</td>\n",
       "      <td>1.0</td>\n",
       "      <td>0.0</td>\n",
       "      <td>1.0</td>\n",
       "      <td>1.0</td>\n",
       "      <td>2.0</td>\n",
       "    </tr>\n",
       "    <tr>\n",
       "      <th>889</th>\n",
       "      <td>0.0</td>\n",
       "      <td>1.0</td>\n",
       "      <td>1.0</td>\n",
       "      <td>0.0</td>\n",
       "      <td>0.0</td>\n",
       "      <td>0.0</td>\n",
       "      <td>0.0</td>\n",
       "      <td>0.0</td>\n",
       "      <td>0.0</td>\n",
       "      <td>0.0</td>\n",
       "      <td>...</td>\n",
       "      <td>0.0</td>\n",
       "      <td>1.0</td>\n",
       "      <td>0.0</td>\n",
       "      <td>1.0</td>\n",
       "      <td>0.0</td>\n",
       "      <td>0.0</td>\n",
       "      <td>1.0</td>\n",
       "      <td>0.0</td>\n",
       "      <td>0.0</td>\n",
       "      <td>0.0</td>\n",
       "    </tr>\n",
       "    <tr>\n",
       "      <th>890</th>\n",
       "      <td>0.0</td>\n",
       "      <td>1.0</td>\n",
       "      <td>0.0</td>\n",
       "      <td>1.0</td>\n",
       "      <td>0.0</td>\n",
       "      <td>0.0</td>\n",
       "      <td>0.0</td>\n",
       "      <td>0.0</td>\n",
       "      <td>0.0</td>\n",
       "      <td>0.0</td>\n",
       "      <td>...</td>\n",
       "      <td>0.0</td>\n",
       "      <td>0.0</td>\n",
       "      <td>0.0</td>\n",
       "      <td>0.0</td>\n",
       "      <td>0.0</td>\n",
       "      <td>1.0</td>\n",
       "      <td>0.0</td>\n",
       "      <td>1.0</td>\n",
       "      <td>0.0</td>\n",
       "      <td>0.0</td>\n",
       "    </tr>\n",
       "  </tbody>\n",
       "</table>\n",
       "<p>891 rows × 25 columns</p>\n",
       "</div>"
      ],
      "text/plain": [
       "      0    1    2    3    4    5    6    7    8    9   ...   15   16   17  \\\n",
       "0    0.0  1.0  0.0  0.0  1.0  0.0  0.0  0.0  0.0  0.0  ...  0.0  0.0  0.0   \n",
       "1    1.0  0.0  1.0  0.0  0.0  0.0  0.0  0.0  0.0  0.0  ...  0.0  0.0  1.0   \n",
       "2    1.0  0.0  0.0  0.0  1.0  0.0  0.0  0.0  0.0  0.0  ...  0.0  0.0  0.0   \n",
       "3    1.0  0.0  0.0  0.0  1.0  0.0  0.0  0.0  0.0  0.0  ...  0.0  0.0  1.0   \n",
       "4    0.0  1.0  0.0  0.0  1.0  0.0  0.0  0.0  0.0  0.0  ...  0.0  0.0  0.0   \n",
       "..   ...  ...  ...  ...  ...  ...  ...  ...  ...  ...  ...  ...  ...  ...   \n",
       "886  0.0  1.0  0.0  0.0  1.0  0.0  0.0  0.0  0.0  0.0  ...  0.0  0.0  0.0   \n",
       "887  1.0  0.0  0.0  0.0  1.0  0.0  0.0  0.0  0.0  0.0  ...  0.0  1.0  0.0   \n",
       "888  1.0  0.0  0.0  0.0  1.0  0.0  1.0  0.0  0.0  0.0  ...  0.0  0.0  0.0   \n",
       "889  0.0  1.0  1.0  0.0  0.0  0.0  0.0  0.0  0.0  0.0  ...  0.0  1.0  0.0   \n",
       "890  0.0  1.0  0.0  1.0  0.0  0.0  0.0  0.0  0.0  0.0  ...  0.0  0.0  0.0   \n",
       "\n",
       "      18   19   20   21   22   23   24  \n",
       "0    0.0  0.0  1.0  0.0  1.0  1.0  0.0  \n",
       "1    1.0  0.0  0.0  1.0  0.0  1.0  0.0  \n",
       "2    0.0  0.0  1.0  0.0  1.0  0.0  0.0  \n",
       "3    1.0  0.0  0.0  1.0  0.0  1.0  0.0  \n",
       "4    0.0  0.0  1.0  0.0  1.0  0.0  0.0  \n",
       "..   ...  ...  ...  ...  ...  ...  ...  \n",
       "886  0.0  1.0  0.0  0.0  1.0  0.0  0.0  \n",
       "887  1.0  0.0  0.0  1.0  0.0  0.0  0.0  \n",
       "888  0.0  0.0  1.0  0.0  1.0  1.0  2.0  \n",
       "889  1.0  0.0  0.0  1.0  0.0  0.0  0.0  \n",
       "890  0.0  0.0  1.0  0.0  1.0  0.0  0.0  \n",
       "\n",
       "[891 rows x 25 columns]"
      ]
     },
     "execution_count": 30,
     "metadata": {},
     "output_type": "execute_result"
    }
   ],
   "source": [
    "# applying our function to transform X_train\n",
    "\n",
    "X_tf = transform_data(X)\n",
    "pd.DataFrame(X_tf)\n",
    "# note this converts to numpy array, and not pd"
   ]
  },
  {
   "cell_type": "markdown",
   "execution_count": null,
   "metadata": {},
   "source": [
    "Lets see our transformed data is done correctly.\n",
    "\n",
    "From above, our transformed data has 25 columns (starting from 0).\n",
    "\n",
    "It should have:\n",
    "\n",
    "* 1x \"SibSp\",\n",
    "* 1x \"Parch\",\n",
    "* 2x \"Sex\", \n",
    "* 3x \"Embarked\", \n",
    "* 8x \"AgeGroup\", \n",
    "* 5x \"FareGroup\", \n",
    "* 3x \"Pclass\",\n",
    "* 2x \"HasCabin\""
   ]
  },
  {
   "cell_type": "code",
   "execution_count": 31,
   "metadata": {},
   "outputs": [
    {
     "data": {
      "text/plain": [
       "25"
      ]
     },
     "execution_count": 31,
     "metadata": {},
     "output_type": "execute_result"
    }
   ],
   "source": [
    "# number of columns we should have\n",
    "1+1+2+3+8+5+3+2"
   ]
  },
  {
   "cell_type": "code",
   "execution_count": 32,
   "metadata": {},
   "outputs": [
    {
     "data": {
      "text/plain": [
       "(891, 891)"
      ]
     },
     "execution_count": 32,
     "metadata": {},
     "output_type": "execute_result"
    }
   ],
   "source": [
    "# check that number of rows is intact\n",
    "len(X_tf), len(X)"
   ]
  },
  {
   "cell_type": "code",
   "execution_count": 33,
   "metadata": {},
   "outputs": [
    {
     "data": {
      "text/plain": [
       "0     0\n",
       "1     0\n",
       "2     0\n",
       "3     0\n",
       "4     0\n",
       "5     0\n",
       "6     0\n",
       "7     0\n",
       "8     0\n",
       "9     0\n",
       "10    0\n",
       "11    0\n",
       "12    0\n",
       "13    0\n",
       "14    0\n",
       "15    0\n",
       "16    0\n",
       "17    0\n",
       "18    0\n",
       "19    0\n",
       "20    0\n",
       "21    0\n",
       "22    0\n",
       "23    0\n",
       "24    0\n",
       "dtype: int64"
      ]
     },
     "execution_count": 33,
     "metadata": {},
     "output_type": "execute_result"
    }
   ],
   "source": [
    "# check if any missing value\n",
    "pd.DataFrame(X_tf).isna().sum()"
   ]
  },
  {
   "cell_type": "markdown",
   "execution_count": null,
   "metadata": {},
   "source": [
    "### Splitting data train and validation\n",
    "\n",
    "In general, it's good practice to split data into training and validation set **before** applying any feature engineering.\n",
    "\n",
    "But since our sample size is small, we decide to split after feature engineering is applied."
   ]
  },
  {
   "cell_type": "code",
   "execution_count": 34,
   "metadata": {},
   "outputs": [],
   "source": [
    "# Split data into train and validation sets\n",
    "from sklearn.model_selection import train_test_split\n",
    "np.random.seed(17)\n",
    "X_train, X_val, y_train, y_val = train_test_split(X_tf, y, test_size=0.2)"
   ]
  },
  {
   "cell_type": "code",
   "execution_count": 35,
   "metadata": {},
   "outputs": [
    {
     "data": {
      "text/plain": [
       "(712, 179, 712, 179)"
      ]
     },
     "execution_count": 35,
     "metadata": {},
     "output_type": "execute_result"
    }
   ],
   "source": [
    "# confirm splitting is done right\n",
    "len(X_train), len(X_val), len(y_train), len(y_val)"
   ]
  },
  {
   "cell_type": "markdown",
   "execution_count": null,
   "metadata": {},
   "source": [
    "## 6) Modeling\n",
    "\n",
    "We're going to try 4 different machine learning models that are used for Classification problem:\n",
    "\n",
    "1. Logistic Regression\n",
    "2. K-Nearest Neighbours Classifier\n",
    "3. Random Forest Classifier\n",
    "4. Gradient Boosting Classifier\n",
    "5. Support Vector Machines\n",
    "6. Stochastic Gradient Descent\n",
    "7. Decision Tree\n",
    "\n",
    "We are using training data (X_train, y_train) for **fitting / training** the model \n",
    "\n",
    "Then, we use validation data (X_val, y_val) to **validate and evaluate** how accuracy our model is.\n",
    "* we use default `score` method of each model to get accuracy score\n",
    "* in essense, what `score` method does is it predicts on X_val data and produces a y_prediction data. \n",
    "* and then, it compares y_prediction (Machine's guess) with y_val (actual answer) to see how accurate is the prediction"
   ]
  },
  {
   "cell_type": "code",
   "execution_count": 36,
   "metadata": {},
   "outputs": [],
   "source": [
    "# Creating a function to fit and score across the models\n",
    "\n",
    "from sklearn.linear_model import LogisticRegression\n",
    "from sklearn.neighbors import KNeighborsClassifier\n",
    "from sklearn.ensemble import RandomForestClassifier\n",
    "from sklearn.ensemble import GradientBoostingClassifier\n",
    "from sklearn.svm import SVC\n",
    "from sklearn.linear_model import SGDClassifier\n",
    "from sklearn.tree import DecisionTreeClassifier\n",
    "\n",
    "# Put models in a dictionary\n",
    "models = {\"Logistic Regression\": LogisticRegression(),\n",
    "          \"KNN\": KNeighborsClassifier(),\n",
    "          \"Random Forest\": RandomForestClassifier(),\n",
    "          \"Gradient Boosting\": GradientBoostingClassifier(),\n",
    "          \"SVC\": SVC(),\n",
    "          \"SGD\": SGDClassifier(),\n",
    "          \"Decision Tree\": DecisionTreeClassifier()}\n",
    "\n",
    "\n",
    "def fit_and_score(models, X_train, X_val, y_train, y_val):\n",
    "    \"\"\"\n",
    "    Fits and evaluates given machine learning models.\n",
    "    models : a dict of differetn Scikit-Learn machine learning models\n",
    "    \"\"\"\n",
    "    # Set random seed\n",
    "    np.random.seed(17)\n",
    "    # Make a dictionary to keep model scores\n",
    "    model_scores = {}\n",
    "    # Loop through models\n",
    "    for name, model in models.items():\n",
    "        # Fit the model to the data\n",
    "        model.fit(X_train, y_train)\n",
    "        # Evaluate the model and append its score to model_scores\n",
    "        model_scores[name] = model.score(X_val, y_val)\n",
    "    return model_scores\n"
   ]
  },
  {
   "cell_type": "code",
   "execution_count": 37,
   "metadata": {},
   "outputs": [
    {
     "data": {
      "text/plain": [
       "{'Logistic Regression': 0.770949720670391,\n",
       " 'KNN': 0.7318435754189944,\n",
       " 'Random Forest': 0.7821229050279329,\n",
       " 'Gradient Boosting': 0.7653631284916201,\n",
       " 'SVC': 0.7877094972067039,\n",
       " 'SGD': 0.770949720670391,\n",
       " 'Decision Tree': 0.776536312849162}"
      ]
     },
     "execution_count": 37,
     "metadata": {},
     "output_type": "execute_result"
    }
   ],
   "source": [
    "# Executing our function, and we will see the \"accuracy\" score (using default scoring method of each model)\n",
    "fit_and_score(models=models,\n",
    "              X_train=X_train,\n",
    "              X_val=X_val,\n",
    "              y_train=y_train,\n",
    "              y_val=y_val)"
   ]
  },
  {
   "cell_type": "markdown",
   "execution_count": null,
   "metadata": {},
   "source": [
    "## 7) Evaluation \n",
    "\n",
    "### Additional Metrics to evaluate different models\n",
    "\n",
    "We want to have more metrics in addition to \"accuracy\" to give us better assess performance of each model.\n",
    "\n",
    "For now, we will evaluate our 3 most accurate models - Random Forest, SVC, Decision Tree"
   ]
  },
  {
   "cell_type": "code",
   "execution_count": 38,
   "metadata": {},
   "outputs": [],
   "source": [
    "# creating a evaluation metrics\n",
    "from sklearn.metrics import accuracy_score, precision_score, recall_score, f1_score\n",
    "\n",
    "def evaluate_preds(y_true, y_preds):\n",
    "    \"\"\"\n",
    "    perform evaluation comparison on y_true labels vs y_preds labels\n",
    "    \"\"\"\n",
    "    accuracy = accuracy_score(y_true, y_preds)\n",
    "    precision = precision_score(y_true, y_preds)\n",
    "    recall = recall_score(y_true, y_preds)\n",
    "    f1 = f1_score(y_true, y_preds)\n",
    "    metric_dict = {\"accuracy\": round(accuracy, 2),\n",
    "                    \"precision\": round(precision, 2),\n",
    "                    \"recall\": round(recall, 2),\n",
    "                    \"f1\": round(f1, 2)}\n",
    "    print(f\"Acc: {accuracy * 100:.2f}%\")\n",
    "    print(f\"Precision: {precision:.2f}\")\n",
    "    print(f\"Recall: {recall:.2f}\")\n",
    "    print(f\"F1 score: {f1:.2f}\")\n",
    "    return metric_dict"
   ]
  },
  {
   "cell_type": "code",
   "execution_count": 39,
   "metadata": {},
   "outputs": [
    {
     "name": "stdout",
     "output_type": "stream",
     "text": [
      "Acc: 77.09%\n",
      "Precision: 0.72\n",
      "Recall: 0.73\n",
      "F1 score: 0.72\n"
     ]
    },
    {
     "data": {
      "text/plain": [
       "{'accuracy': 0.77, 'precision': 0.72, 'recall': 0.73, 'f1': 0.72}"
      ]
     },
     "execution_count": 39,
     "metadata": {},
     "output_type": "execute_result"
    }
   ],
   "source": [
    "# RandomForest\n",
    "\n",
    "np.random.seed(19)\n",
    "rf = RandomForestClassifier()\n",
    "rf.fit(X_train, y_train)\n",
    "y_preds = rf.predict(X_val)  # ML's prediction using X_val\n",
    "\n",
    "# evaluate using our evaluation function on validation set\n",
    "rf_metrics = evaluate_preds(y_val, y_preds)  # compares y_preds with y_val/y_true\n",
    "rf_metrics"
   ]
  },
  {
   "cell_type": "code",
   "execution_count": 40,
   "metadata": {},
   "outputs": [
    {
     "name": "stdout",
     "output_type": "stream",
     "text": [
      "Acc: 78.77%\n",
      "Precision: 0.79\n",
      "Recall: 0.66\n",
      "F1 score: 0.72\n"
     ]
    },
    {
     "data": {
      "text/plain": [
       "{'accuracy': 0.79, 'precision': 0.79, 'recall': 0.66, 'f1': 0.72}"
      ]
     },
     "execution_count": 40,
     "metadata": {},
     "output_type": "execute_result"
    }
   ],
   "source": [
    "# SVC\n",
    "\n",
    "np.random.seed(19)\n",
    "svc = SVC()\n",
    "svc.fit(X_train, y_train)\n",
    "y_preds = svc.predict(X_val)  # ML's prediction using X_val\n",
    "\n",
    "# evaluate using our evaluation function on validation set\n",
    "svc_metrics = evaluate_preds(y_val, y_preds)  # compares y_preds with y_val/y_true\n",
    "svc_metrics"
   ]
  },
  {
   "cell_type": "code",
   "execution_count": 41,
   "metadata": {},
   "outputs": [
    {
     "name": "stdout",
     "output_type": "stream",
     "text": [
      "Acc: 77.09%\n",
      "Precision: 0.73\n",
      "Recall: 0.70\n",
      "F1 score: 0.71\n"
     ]
    },
    {
     "data": {
      "text/plain": [
       "{'accuracy': 0.77, 'precision': 0.73, 'recall': 0.7, 'f1': 0.71}"
      ]
     },
     "execution_count": 41,
     "metadata": {},
     "output_type": "execute_result"
    }
   ],
   "source": [
    "# Decision Tree\n",
    "\n",
    "np.random.seed(19)\n",
    "decision_tree = DecisionTreeClassifier()\n",
    "decision_tree.fit(X_train, y_train)\n",
    "y_preds = decision_tree.predict(X_val)  # ML's prediction using X_val\n",
    "\n",
    "# evaluate using our evaluation function on validation set\n",
    "decision_tree_metrics = evaluate_preds(y_val, y_preds)  # compares y_preds with y_val/y_true\n",
    "decision_tree_metrics\n"
   ]
  },
  {
   "cell_type": "code",
   "execution_count": 42,
   "metadata": {},
   "outputs": [
    {
     "data": {
      "image/png": "[encoded data removed]",
      "text/plain": [
       "<Figure size 720x576 with 1 Axes>"
      ]
     },
     "metadata": {
      "needs_background": "light"
     },
     "output_type": "display_data"
    }
   ],
   "source": [
    "# Lets compare our different models with new metrics\n",
    "\n",
    "compare_metrics = pd.DataFrame({\"Random Forest\": rf_metrics,\n",
    "                                \"SVC\": svc_metrics,\n",
    "                                \"Decision Tree\": decision_tree_metrics})\n",
    "compare_metrics.plot.bar(figsize=(10,8));"
   ]
  },
  {
   "cell_type": "markdown",
   "execution_count": null,
   "metadata": {},
   "source": [
    "### Result:\n",
    "\n",
    "There is a whole science in making sense of the different metrics.\n",
    "\n",
    "\n",
    "1)\n",
    "\n",
    "In general, if there is **class imbalance**, precision and recall are more important than accuracy.\n",
    "\n",
    "Class imbalance means e.g. in \"Sex\", if our data has 95% male and 5% female, it makes it difficult for machine learning to predict accurately especially for minority class.\n",
    "\n",
    "In our data, due to our small sample size, there are quite a few features that have imbalanced classes, e.g. Pclass, FareGroup, etc.\n",
    "\n",
    "\n",
    "2)\n",
    "\n",
    "If false positive predictions are worse than false negatives (depend on the project), aim for higher precision. If false negative predictions are worse than false positives, aim for higher recall.\n",
    "\n",
    "For us, we are no preference on false positive or false negative, since we are not predicting if a patient has heart disease, for instance.\n",
    "\n",
    "\n",
    "3)\n",
    "In our case, both Random Forest and SVC are very close in metrics.\n",
    "\n",
    "* they are equal in F1-score. F1-score is a combination of precision and recall.\n",
    "* SVC has higher accuracy.\n",
    "\n",
    "Thus, we will be using SVC for further tuning."
   ]
  },
  {
   "cell_type": "markdown",
   "execution_count": null,
   "metadata": {},
   "source": [
    "## 8) Tuning Hyperparameters of our Model\n",
    "\n",
    "Tuning hyperparameters helps to optimise the performance of a model. \n",
    "\n",
    "Hyperparameters are parameters that are external to our model's learning that can potentially helps improve its ability to predict.\n",
    "\n",
    "We will be using RandomSearchCV and GridSearchCV for tuning."
   ]
  },
  {
   "cell_type": "code",
   "execution_count": 43,
   "metadata": {},
   "outputs": [
    {
     "data": {
      "text/plain": [
       "{'C': 1.0,\n",
       " 'break_ties': False,\n",
       " 'cache_size': 200,\n",
       " 'class_weight': None,\n",
       " 'coef0': 0.0,\n",
       " 'decision_function_shape': 'ovr',\n",
       " 'degree': 3,\n",
       " 'gamma': 'scale',\n",
       " 'kernel': 'rbf',\n",
       " 'max_iter': -1,\n",
       " 'probability': False,\n",
       " 'random_state': None,\n",
       " 'shrinking': True,\n",
       " 'tol': 0.001,\n",
       " 'verbose': False}"
      ]
     },
     "execution_count": 43,
     "metadata": {},
     "output_type": "execute_result"
    }
   ],
   "source": [
    "# check available hyperparameters for SVC\n",
    "svc.get_params()"
   ]
  },
  {
   "cell_type": "code",
   "execution_count": 44,
   "metadata": {
    "collapsed": true
   },
   "outputs": [
    {
     "name": "stdout",
     "output_type": "stream",
     "text": [
      "Fitting 5 folds for each of 10 candidates, totalling 50 fits\n",
      "[CV] kernel=linear, gamma=auto, degree=2, class_weight=balanced, C=0.1 \n",
      "[CV]  kernel=linear, gamma=auto, degree=2, class_weight=balanced, C=0.1, total=   0.0s\n",
      "[CV] kernel=linear, gamma=auto, degree=2, class_weight=balanced, C=0.1 \n",
      "[CV]  kernel=linear, gamma=auto, degree=2, class_weight=balanced, C=0.1, total=   0.0s\n",
      "[CV] kernel=linear, gamma=auto, degree=2, class_weight=balanced, C=0.1 \n",
      "[CV]  kernel=linear, gamma=auto, degree=2, class_weight=balanced, C=0.1, total=   0.0s\n",
      "[CV] kernel=linear, gamma=auto, degree=2, class_weight=balanced, C=0.1 \n",
      "[CV]  kernel=linear, gamma=auto, degree=2, class_weight=balanced, C=0.1, total=   0.0s\n",
      "[CV] kernel=linear, gamma=auto, degree=2, class_weight=balanced, C=0.1 \n",
      "[CV]  kernel=linear, gamma=auto, degree=2, class_weight=balanced, C=0.1, total=   0.0s\n",
      "[CV] kernel=linear, gamma=scale, degree=1, class_weight=None, C=10 ...\n",
      "[CV]  kernel=linear, gamma=scale, degree=1, class_weight=None, C=10, total=   0.0s\n",
      "[CV] kernel=linear, gamma=scale, degree=1, class_weight=None, C=10 ...\n",
      "[CV]  kernel=linear, gamma=scale, degree=1, class_weight=None, C=10, total=   0.0s\n",
      "[CV] kernel=linear, gamma=scale, degree=1, class_weight=None, C=10 ...\n",
      "[CV]  kernel=linear, gamma=scale, degree=1, class_weight=None, C=10, total=   0.0s\n",
      "[CV] kernel=linear, gamma=scale, degree=1, class_weight=None, C=10 ...\n"
     ]
    },
    {
     "name": "stderr",
     "output_type": "stream",
     "text": [
      "[Parallel(n_jobs=1)]: Using backend SequentialBackend with 1 concurrent workers.\n",
      "[Parallel(n_jobs=1)]: Done   1 out of   1 | elapsed:    0.0s remaining:    0.0s\n"
     ]
    },
    {
     "name": "stdout",
     "output_type": "stream",
     "text": [
      "[CV]  kernel=linear, gamma=scale, degree=1, class_weight=None, C=10, total=   0.0s\n",
      "[CV] kernel=linear, gamma=scale, degree=1, class_weight=None, C=10 ...\n",
      "[CV]  kernel=linear, gamma=scale, degree=1, class_weight=None, C=10, total=   0.0s\n",
      "[CV] kernel=poly, gamma=auto, degree=4, class_weight=balanced, C=1.0 .\n",
      "[CV]  kernel=poly, gamma=auto, degree=4, class_weight=balanced, C=1.0, total=   0.0s\n",
      "[CV] kernel=poly, gamma=auto, degree=4, class_weight=balanced, C=1.0 .\n",
      "[CV]  kernel=poly, gamma=auto, degree=4, class_weight=balanced, C=1.0, total=   0.0s\n",
      "[CV] kernel=poly, gamma=auto, degree=4, class_weight=balanced, C=1.0 .\n",
      "[CV]  kernel=poly, gamma=auto, degree=4, class_weight=balanced, C=1.0, total=   0.0s\n",
      "[CV] kernel=poly, gamma=auto, degree=4, class_weight=balanced, C=1.0 .\n",
      "[CV]  kernel=poly, gamma=auto, degree=4, class_weight=balanced, C=1.0, total=   0.0s\n",
      "[CV] kernel=poly, gamma=auto, degree=4, class_weight=balanced, C=1.0 .\n",
      "[CV]  kernel=poly, gamma=auto, degree=4, class_weight=balanced, C=1.0, total=   0.0s\n",
      "[CV] kernel=poly, gamma=scale, degree=1, class_weight=balanced, C=1.0 \n",
      "[CV]  kernel=poly, gamma=scale, degree=1, class_weight=balanced, C=1.0, total=   0.0s\n",
      "[CV] kernel=poly, gamma=scale, degree=1, class_weight=balanced, C=1.0 \n",
      "[CV]  kernel=poly, gamma=scale, degree=1, class_weight=balanced, C=1.0, total=   0.0s\n",
      "[CV] kernel=poly, gamma=scale, degree=1, class_weight=balanced, C=1.0 \n",
      "[CV]  kernel=poly, gamma=scale, degree=1, class_weight=balanced, C=1.0, total=   0.0s\n",
      "[CV] kernel=poly, gamma=scale, degree=1, class_weight=balanced, C=1.0 \n",
      "[CV]  kernel=poly, gamma=scale, degree=1, class_weight=balanced, C=1.0, total=   0.0s\n",
      "[CV] kernel=poly, gamma=scale, degree=1, class_weight=balanced, C=1.0 \n",
      "[CV]  kernel=poly, gamma=scale, degree=1, class_weight=balanced, C=1.0, total=   0.0s\n",
      "[CV] kernel=poly, gamma=auto, degree=5, class_weight=balanced, C=100 .\n",
      "[CV]  kernel=poly, gamma=auto, degree=5, class_weight=balanced, C=100, total=   0.0s\n",
      "[CV] kernel=poly, gamma=auto, degree=5, class_weight=balanced, C=100 .\n",
      "[CV]  kernel=poly, gamma=auto, degree=5, class_weight=balanced, C=100, total=   0.0s\n",
      "[CV] kernel=poly, gamma=auto, degree=5, class_weight=balanced, C=100 .\n",
      "[CV]  kernel=poly, gamma=auto, degree=5, class_weight=balanced, C=100, total=   0.0s\n",
      "[CV] kernel=poly, gamma=auto, degree=5, class_weight=balanced, C=100 .\n",
      "[CV]  kernel=poly, gamma=auto, degree=5, class_weight=balanced, C=100, total=   0.0s\n",
      "[CV] kernel=poly, gamma=auto, degree=5, class_weight=balanced, C=100 .\n",
      "[CV]  kernel=poly, gamma=auto, degree=5, class_weight=balanced, C=100, total=   0.0s\n",
      "[CV] kernel=linear, gamma=scale, degree=0, class_weight=None, C=1.0 ..\n",
      "[CV]  kernel=linear, gamma=scale, degree=0, class_weight=None, C=1.0, total=   0.0s\n",
      "[CV] kernel=linear, gamma=scale, degree=0, class_weight=None, C=1.0 ..\n",
      "[CV]  kernel=linear, gamma=scale, degree=0, class_weight=None, C=1.0, total=   0.0s\n",
      "[CV] kernel=linear, gamma=scale, degree=0, class_weight=None, C=1.0 ..\n",
      "[CV]  kernel=linear, gamma=scale, degree=0, class_weight=None, C=1.0, total=   0.0s\n",
      "[CV] kernel=linear, gamma=scale, degree=0, class_weight=None, C=1.0 ..\n",
      "[CV]  kernel=linear, gamma=scale, degree=0, class_weight=None, C=1.0, total=   0.0s\n",
      "[CV] kernel=linear, gamma=scale, degree=0, class_weight=None, C=1.0 ..\n",
      "[CV]  kernel=linear, gamma=scale, degree=0, class_weight=None, C=1.0, total=   0.0s\n",
      "[CV] kernel=linear, gamma=auto, degree=0, class_weight=None, C=0.001 .\n",
      "[CV]  kernel=linear, gamma=auto, degree=0, class_weight=None, C=0.001, total=   0.0s\n",
      "[CV] kernel=linear, gamma=auto, degree=0, class_weight=None, C=0.001 .\n",
      "[CV]  kernel=linear, gamma=auto, degree=0, class_weight=None, C=0.001, total=   0.0s\n",
      "[CV] kernel=linear, gamma=auto, degree=0, class_weight=None, C=0.001 .\n",
      "[CV]  kernel=linear, gamma=auto, degree=0, class_weight=None, C=0.001, total=   0.0s\n",
      "[CV] kernel=linear, gamma=auto, degree=0, class_weight=None, C=0.001 .\n",
      "[CV]  kernel=linear, gamma=auto, degree=0, class_weight=None, C=0.001, total=   0.0s\n",
      "[CV] kernel=linear, gamma=auto, degree=0, class_weight=None, C=0.001 .\n",
      "[CV]  kernel=linear, gamma=auto, degree=0, class_weight=None, C=0.001, total=   0.0s\n",
      "[CV] kernel=rbf, gamma=auto, degree=3, class_weight=None, C=0.001 ....\n",
      "[CV]  kernel=rbf, gamma=auto, degree=3, class_weight=None, C=0.001, total=   0.0s\n",
      "[CV] kernel=rbf, gamma=auto, degree=3, class_weight=None, C=0.001 ....\n",
      "[CV]  kernel=rbf, gamma=auto, degree=3, class_weight=None, C=0.001, total=   0.0s\n",
      "[CV] kernel=rbf, gamma=auto, degree=3, class_weight=None, C=0.001 ....\n",
      "[CV]  kernel=rbf, gamma=auto, degree=3, class_weight=None, C=0.001, total=   0.0s\n",
      "[CV] kernel=rbf, gamma=auto, degree=3, class_weight=None, C=0.001 ....\n",
      "[CV]  kernel=rbf, gamma=auto, degree=3, class_weight=None, C=0.001, total=   0.0s\n",
      "[CV] kernel=rbf, gamma=auto, degree=3, class_weight=None, C=0.001 ....\n",
      "[CV]  kernel=rbf, gamma=auto, degree=3, class_weight=None, C=0.001, total=   0.0s\n",
      "[CV] kernel=poly, gamma=auto, degree=6, class_weight=None, C=0.001 ...\n",
      "[CV]  kernel=poly, gamma=auto, degree=6, class_weight=None, C=0.001, total=   0.0s\n",
      "[CV] kernel=poly, gamma=auto, degree=6, class_weight=None, C=0.001 ...\n",
      "[CV]  kernel=poly, gamma=auto, degree=6, class_weight=None, C=0.001, total=   0.0s\n",
      "[CV] kernel=poly, gamma=auto, degree=6, class_weight=None, C=0.001 ...\n",
      "[CV]  kernel=poly, gamma=auto, degree=6, class_weight=None, C=0.001, total=   0.0s\n",
      "[CV] kernel=poly, gamma=auto, degree=6, class_weight=None, C=0.001 ...\n",
      "[CV]  kernel=poly, gamma=auto, degree=6, class_weight=None, C=0.001, total=   0.0s\n",
      "[CV] kernel=poly, gamma=auto, degree=6, class_weight=None, C=0.001 ...\n",
      "[CV]  kernel=poly, gamma=auto, degree=6, class_weight=None, C=0.001, total=   0.0s\n",
      "[CV] kernel=linear, gamma=auto, degree=2, class_weight=None, C=1.0 ...\n",
      "[CV]  kernel=linear, gamma=auto, degree=2, class_weight=None, C=1.0, total=   0.0s\n",
      "[CV] kernel=linear, gamma=auto, degree=2, class_weight=None, C=1.0 ...\n",
      "[CV]  kernel=linear, gamma=auto, degree=2, class_weight=None, C=1.0, total=   0.0s\n",
      "[CV] kernel=linear, gamma=auto, degree=2, class_weight=None, C=1.0 ...\n",
      "[CV]  kernel=linear, gamma=auto, degree=2, class_weight=None, C=1.0, total=   0.0s\n",
      "[CV] kernel=linear, gamma=auto, degree=2, class_weight=None, C=1.0 ...\n",
      "[CV]  kernel=linear, gamma=auto, degree=2, class_weight=None, C=1.0, total=   0.0s\n",
      "[CV] kernel=linear, gamma=auto, degree=2, class_weight=None, C=1.0 ...\n",
      "[CV]  kernel=linear, gamma=auto, degree=2, class_weight=None, C=1.0, total=   0.0s\n"
     ]
    },
    {
     "name": "stderr",
     "output_type": "stream",
     "text": [
      "[Parallel(n_jobs=1)]: Done  50 out of  50 | elapsed:    0.9s finished\n"
     ]
    }
   ],
   "source": [
    "# tuning hyperparameters by RandomSearchCV\n",
    "\n",
    "from sklearn.model_selection import RandomizedSearchCV\n",
    "grid = {\"kernel\": [\"linear\", \"rbf\", \"poly\"],\n",
    "        \"gamma\": [\"scale\", \"auto\"],\n",
    "        \"degree\": [0,1,2,3,4,5,6],\n",
    "        \"class_weight\": [\"balanced\", None],\n",
    "        \"C\": [100, 10, 1.0, 0.1, 0.001]}\n",
    "\n",
    "np.random.seed(17)\n",
    "\n",
    "svc = SVC()\n",
    "rs_svc = RandomizedSearchCV(estimator=svc,\n",
    "                            param_distributions=grid,  # what we defined above\n",
    "                            n_iter=10, # number of combinations to try\n",
    "                            cv=5,   # number of cross-validation split\n",
    "                            verbose=2)\n",
    "rs_svc.fit(X_train, y_train);"
   ]
  },
  {
   "cell_type": "code",
   "execution_count": 45,
   "metadata": {},
   "outputs": [
    {
     "data": {
      "text/plain": [
       "{'kernel': 'linear',\n",
       " 'gamma': 'scale',\n",
       " 'degree': 1,\n",
       " 'class_weight': None,\n",
       " 'C': 10}"
      ]
     },
     "execution_count": 45,
     "metadata": {},
     "output_type": "execute_result"
    }
   ],
   "source": [
    "# checking out best parameters we find from tuning\n",
    "rs_svc.best_params_"
   ]
  },
  {
   "cell_type": "code",
   "execution_count": 46,
   "metadata": {},
   "outputs": [
    {
     "name": "stdout",
     "output_type": "stream",
     "text": [
      "Acc: 79.33%\n",
      "Precision: 0.78\n",
      "Recall: 0.68\n",
      "F1 score: 0.73\n"
     ]
    }
   ],
   "source": [
    "# evaluating our model tuned with RandomSearchCV\n",
    "rs_y_preds = rs_svc.predict(X_val)\n",
    "\n",
    "# evaluate predictions\n",
    "rs_metrics = evaluate_preds(y_val, rs_y_preds)"
   ]
  },
  {
   "cell_type": "code",
   "execution_count": 47,
   "metadata": {
    "collapsed": true
   },
   "outputs": [
    {
     "name": "stdout",
     "output_type": "stream",
     "text": [
      "Fitting 5 folds for each of 18 candidates, totalling 90 fits\n",
      "[CV] C=100, class_weight=None, degree=1, gamma=scale, kernel=linear ..\n"
     ]
    },
    {
     "name": "stderr",
     "output_type": "stream",
     "text": [
      "[Parallel(n_jobs=1)]: Using backend SequentialBackend with 1 concurrent workers.\n"
     ]
    },
    {
     "name": "stdout",
     "output_type": "stream",
     "text": [
      "[CV]  C=100, class_weight=None, degree=1, gamma=scale, kernel=linear, total=   0.3s\n",
      "[CV] C=100, class_weight=None, degree=1, gamma=scale, kernel=linear ..\n",
      "[CV]  C=100, class_weight=None, degree=1, gamma=scale, kernel=linear, total=   0.2s\n",
      "[CV] C=100, class_weight=None, degree=1, gamma=scale, kernel=linear ..\n"
     ]
    },
    {
     "name": "stderr",
     "output_type": "stream",
     "text": [
      "[Parallel(n_jobs=1)]: Done   1 out of   1 | elapsed:    0.3s remaining:    0.0s\n"
     ]
    },
    {
     "name": "stdout",
     "output_type": "stream",
     "text": [
      "[CV]  C=100, class_weight=None, degree=1, gamma=scale, kernel=linear, total=   0.2s\n",
      "[CV] C=100, class_weight=None, degree=1, gamma=scale, kernel=linear ..\n",
      "[CV]  C=100, class_weight=None, degree=1, gamma=scale, kernel=linear, total=   0.2s\n",
      "[CV] C=100, class_weight=None, degree=1, gamma=scale, kernel=linear ..\n",
      "[CV]  C=100, class_weight=None, degree=1, gamma=scale, kernel=linear, total=   0.2s\n",
      "[CV] C=100, class_weight=None, degree=1, gamma=scale, kernel=rbf .....\n",
      "[CV]  C=100, class_weight=None, degree=1, gamma=scale, kernel=rbf, total=   0.0s\n",
      "[CV] C=100, class_weight=None, degree=1, gamma=scale, kernel=rbf .....\n",
      "[CV]  C=100, class_weight=None, degree=1, gamma=scale, kernel=rbf, total=   0.0s\n",
      "[CV] C=100, class_weight=None, degree=1, gamma=scale, kernel=rbf .....\n",
      "[CV]  C=100, class_weight=None, degree=1, gamma=scale, kernel=rbf, total=   0.0s\n",
      "[CV] C=100, class_weight=None, degree=1, gamma=scale, kernel=rbf .....\n",
      "[CV]  C=100, class_weight=None, degree=1, gamma=scale, kernel=rbf, total=   0.0s\n",
      "[CV] C=100, class_weight=None, degree=1, gamma=scale, kernel=rbf .....\n",
      "[CV]  C=100, class_weight=None, degree=1, gamma=scale, kernel=rbf, total=   0.0s\n",
      "[CV] C=100, class_weight=None, degree=2, gamma=scale, kernel=linear ..\n",
      "[CV]  C=100, class_weight=None, degree=2, gamma=scale, kernel=linear, total=   0.3s\n",
      "[CV] C=100, class_weight=None, degree=2, gamma=scale, kernel=linear ..\n",
      "[CV]  C=100, class_weight=None, degree=2, gamma=scale, kernel=linear, total=   0.2s\n",
      "[CV] C=100, class_weight=None, degree=2, gamma=scale, kernel=linear ..\n",
      "[CV]  C=100, class_weight=None, degree=2, gamma=scale, kernel=linear, total=   0.2s\n",
      "[CV] C=100, class_weight=None, degree=2, gamma=scale, kernel=linear ..\n",
      "[CV]  C=100, class_weight=None, degree=2, gamma=scale, kernel=linear, total=   0.2s\n",
      "[CV] C=100, class_weight=None, degree=2, gamma=scale, kernel=linear ..\n",
      "[CV]  C=100, class_weight=None, degree=2, gamma=scale, kernel=linear, total=   0.2s\n",
      "[CV] C=100, class_weight=None, degree=2, gamma=scale, kernel=rbf .....\n",
      "[CV]  C=100, class_weight=None, degree=2, gamma=scale, kernel=rbf, total=   0.0s\n",
      "[CV] C=100, class_weight=None, degree=2, gamma=scale, kernel=rbf .....\n",
      "[CV]  C=100, class_weight=None, degree=2, gamma=scale, kernel=rbf, total=   0.0s\n",
      "[CV] C=100, class_weight=None, degree=2, gamma=scale, kernel=rbf .....\n",
      "[CV]  C=100, class_weight=None, degree=2, gamma=scale, kernel=rbf, total=   0.0s\n",
      "[CV] C=100, class_weight=None, degree=2, gamma=scale, kernel=rbf .....\n",
      "[CV]  C=100, class_weight=None, degree=2, gamma=scale, kernel=rbf, total=   0.0s\n",
      "[CV] C=100, class_weight=None, degree=2, gamma=scale, kernel=rbf .....\n",
      "[CV]  C=100, class_weight=None, degree=2, gamma=scale, kernel=rbf, total=   0.0s\n",
      "[CV] C=100, class_weight=None, degree=3, gamma=scale, kernel=linear ..\n",
      "[CV]  C=100, class_weight=None, degree=3, gamma=scale, kernel=linear, total=   0.3s\n",
      "[CV] C=100, class_weight=None, degree=3, gamma=scale, kernel=linear ..\n",
      "[CV]  C=100, class_weight=None, degree=3, gamma=scale, kernel=linear, total=   0.2s\n",
      "[CV] C=100, class_weight=None, degree=3, gamma=scale, kernel=linear ..\n",
      "[CV]  C=100, class_weight=None, degree=3, gamma=scale, kernel=linear, total=   0.2s\n",
      "[CV] C=100, class_weight=None, degree=3, gamma=scale, kernel=linear ..\n",
      "[CV]  C=100, class_weight=None, degree=3, gamma=scale, kernel=linear, total=   0.2s\n",
      "[CV] C=100, class_weight=None, degree=3, gamma=scale, kernel=linear ..\n",
      "[CV]  C=100, class_weight=None, degree=3, gamma=scale, kernel=linear, total=   0.2s\n",
      "[CV] C=100, class_weight=None, degree=3, gamma=scale, kernel=rbf .....\n",
      "[CV]  C=100, class_weight=None, degree=3, gamma=scale, kernel=rbf, total=   0.0s\n",
      "[CV] C=100, class_weight=None, degree=3, gamma=scale, kernel=rbf .....\n",
      "[CV]  C=100, class_weight=None, degree=3, gamma=scale, kernel=rbf, total=   0.0s\n",
      "[CV] C=100, class_weight=None, degree=3, gamma=scale, kernel=rbf .....\n",
      "[CV]  C=100, class_weight=None, degree=3, gamma=scale, kernel=rbf, total=   0.0s\n",
      "[CV] C=100, class_weight=None, degree=3, gamma=scale, kernel=rbf .....\n",
      "[CV]  C=100, class_weight=None, degree=3, gamma=scale, kernel=rbf, total=   0.0s\n",
      "[CV] C=100, class_weight=None, degree=3, gamma=scale, kernel=rbf .....\n",
      "[CV]  C=100, class_weight=None, degree=3, gamma=scale, kernel=rbf, total=   0.0s\n",
      "[CV] C=10, class_weight=None, degree=1, gamma=scale, kernel=linear ...\n",
      "[CV]  C=10, class_weight=None, degree=1, gamma=scale, kernel=linear, total=   0.0s\n",
      "[CV] C=10, class_weight=None, degree=1, gamma=scale, kernel=linear ...\n",
      "[CV]  C=10, class_weight=None, degree=1, gamma=scale, kernel=linear, total=   0.0s\n",
      "[CV] C=10, class_weight=None, degree=1, gamma=scale, kernel=linear ...\n",
      "[CV]  C=10, class_weight=None, degree=1, gamma=scale, kernel=linear, total=   0.0s\n",
      "[CV] C=10, class_weight=None, degree=1, gamma=scale, kernel=linear ...\n",
      "[CV]  C=10, class_weight=None, degree=1, gamma=scale, kernel=linear, total=   0.0s\n",
      "[CV] C=10, class_weight=None, degree=1, gamma=scale, kernel=linear ...\n",
      "[CV]  C=10, class_weight=None, degree=1, gamma=scale, kernel=linear, total=   0.0s\n",
      "[CV] C=10, class_weight=None, degree=1, gamma=scale, kernel=rbf ......\n",
      "[CV]  C=10, class_weight=None, degree=1, gamma=scale, kernel=rbf, total=   0.0s\n",
      "[CV] C=10, class_weight=None, degree=1, gamma=scale, kernel=rbf ......\n",
      "[CV]  C=10, class_weight=None, degree=1, gamma=scale, kernel=rbf, total=   0.0s\n",
      "[CV] C=10, class_weight=None, degree=1, gamma=scale, kernel=rbf ......\n",
      "[CV]  C=10, class_weight=None, degree=1, gamma=scale, kernel=rbf, total=   0.0s\n",
      "[CV] C=10, class_weight=None, degree=1, gamma=scale, kernel=rbf ......\n",
      "[CV]  C=10, class_weight=None, degree=1, gamma=scale, kernel=rbf, total=   0.0s\n",
      "[CV] C=10, class_weight=None, degree=1, gamma=scale, kernel=rbf ......\n",
      "[CV]  C=10, class_weight=None, degree=1, gamma=scale, kernel=rbf, total=   0.0s\n",
      "[CV] C=10, class_weight=None, degree=2, gamma=scale, kernel=linear ...\n",
      "[CV]  C=10, class_weight=None, degree=2, gamma=scale, kernel=linear, total=   0.0s\n",
      "[CV] C=10, class_weight=None, degree=2, gamma=scale, kernel=linear ...\n",
      "[CV]  C=10, class_weight=None, degree=2, gamma=scale, kernel=linear, total=   0.0s\n",
      "[CV] C=10, class_weight=None, degree=2, gamma=scale, kernel=linear ...\n",
      "[CV]  C=10, class_weight=None, degree=2, gamma=scale, kernel=linear, total=   0.0s\n",
      "[CV] C=10, class_weight=None, degree=2, gamma=scale, kernel=linear ...\n",
      "[CV]  C=10, class_weight=None, degree=2, gamma=scale, kernel=linear, total=   0.0s\n",
      "[CV] C=10, class_weight=None, degree=2, gamma=scale, kernel=linear ...\n",
      "[CV]  C=10, class_weight=None, degree=2, gamma=scale, kernel=linear, total=   0.0s\n",
      "[CV] C=10, class_weight=None, degree=2, gamma=scale, kernel=rbf ......\n",
      "[CV]  C=10, class_weight=None, degree=2, gamma=scale, kernel=rbf, total=   0.0s\n",
      "[CV] C=10, class_weight=None, degree=2, gamma=scale, kernel=rbf ......\n",
      "[CV]  C=10, class_weight=None, degree=2, gamma=scale, kernel=rbf, total=   0.0s\n",
      "[CV] C=10, class_weight=None, degree=2, gamma=scale, kernel=rbf ......\n",
      "[CV]  C=10, class_weight=None, degree=2, gamma=scale, kernel=rbf, total=   0.0s\n",
      "[CV] C=10, class_weight=None, degree=2, gamma=scale, kernel=rbf ......\n",
      "[CV]  C=10, class_weight=None, degree=2, gamma=scale, kernel=rbf, total=   0.0s\n",
      "[CV] C=10, class_weight=None, degree=2, gamma=scale, kernel=rbf ......\n",
      "[CV]  C=10, class_weight=None, degree=2, gamma=scale, kernel=rbf, total=   0.0s\n",
      "[CV] C=10, class_weight=None, degree=3, gamma=scale, kernel=linear ...\n",
      "[CV]  C=10, class_weight=None, degree=3, gamma=scale, kernel=linear, total=   0.0s\n",
      "[CV] C=10, class_weight=None, degree=3, gamma=scale, kernel=linear ...\n",
      "[CV]  C=10, class_weight=None, degree=3, gamma=scale, kernel=linear, total=   0.0s\n",
      "[CV] C=10, class_weight=None, degree=3, gamma=scale, kernel=linear ...\n",
      "[CV]  C=10, class_weight=None, degree=3, gamma=scale, kernel=linear, total=   0.0s\n",
      "[CV] C=10, class_weight=None, degree=3, gamma=scale, kernel=linear ...\n",
      "[CV]  C=10, class_weight=None, degree=3, gamma=scale, kernel=linear, total=   0.0s\n",
      "[CV] C=10, class_weight=None, degree=3, gamma=scale, kernel=linear ...\n",
      "[CV]  C=10, class_weight=None, degree=3, gamma=scale, kernel=linear, total=   0.0s\n",
      "[CV] C=10, class_weight=None, degree=3, gamma=scale, kernel=rbf ......\n",
      "[CV]  C=10, class_weight=None, degree=3, gamma=scale, kernel=rbf, total=   0.0s\n",
      "[CV] C=10, class_weight=None, degree=3, gamma=scale, kernel=rbf ......\n",
      "[CV]  C=10, class_weight=None, degree=3, gamma=scale, kernel=rbf, total=   0.0s\n",
      "[CV] C=10, class_weight=None, degree=3, gamma=scale, kernel=rbf ......\n",
      "[CV]  C=10, class_weight=None, degree=3, gamma=scale, kernel=rbf, total=   0.0s\n",
      "[CV] C=10, class_weight=None, degree=3, gamma=scale, kernel=rbf ......\n",
      "[CV]  C=10, class_weight=None, degree=3, gamma=scale, kernel=rbf, total=   0.0s\n",
      "[CV] C=10, class_weight=None, degree=3, gamma=scale, kernel=rbf ......\n",
      "[CV]  C=10, class_weight=None, degree=3, gamma=scale, kernel=rbf, total=   0.0s\n",
      "[CV] C=1.0, class_weight=None, degree=1, gamma=scale, kernel=linear ..\n",
      "[CV]  C=1.0, class_weight=None, degree=1, gamma=scale, kernel=linear, total=   0.0s\n",
      "[CV] C=1.0, class_weight=None, degree=1, gamma=scale, kernel=linear ..\n",
      "[CV]  C=1.0, class_weight=None, degree=1, gamma=scale, kernel=linear, total=   0.0s\n",
      "[CV] C=1.0, class_weight=None, degree=1, gamma=scale, kernel=linear ..\n",
      "[CV]  C=1.0, class_weight=None, degree=1, gamma=scale, kernel=linear, total=   0.0s\n",
      "[CV] C=1.0, class_weight=None, degree=1, gamma=scale, kernel=linear ..\n",
      "[CV]  C=1.0, class_weight=None, degree=1, gamma=scale, kernel=linear, total=   0.0s\n",
      "[CV] C=1.0, class_weight=None, degree=1, gamma=scale, kernel=linear ..\n",
      "[CV]  C=1.0, class_weight=None, degree=1, gamma=scale, kernel=linear, total=   0.0s\n",
      "[CV] C=1.0, class_weight=None, degree=1, gamma=scale, kernel=rbf .....\n",
      "[CV]  C=1.0, class_weight=None, degree=1, gamma=scale, kernel=rbf, total=   0.0s\n",
      "[CV] C=1.0, class_weight=None, degree=1, gamma=scale, kernel=rbf .....\n",
      "[CV]  C=1.0, class_weight=None, degree=1, gamma=scale, kernel=rbf, total=   0.0s\n",
      "[CV] C=1.0, class_weight=None, degree=1, gamma=scale, kernel=rbf .....\n",
      "[CV]  C=1.0, class_weight=None, degree=1, gamma=scale, kernel=rbf, total=   0.0s\n",
      "[CV] C=1.0, class_weight=None, degree=1, gamma=scale, kernel=rbf .....\n",
      "[CV]  C=1.0, class_weight=None, degree=1, gamma=scale, kernel=rbf, total=   0.0s\n",
      "[CV] C=1.0, class_weight=None, degree=1, gamma=scale, kernel=rbf .....\n",
      "[CV]  C=1.0, class_weight=None, degree=1, gamma=scale, kernel=rbf, total=   0.0s\n",
      "[CV] C=1.0, class_weight=None, degree=2, gamma=scale, kernel=linear ..\n",
      "[CV]  C=1.0, class_weight=None, degree=2, gamma=scale, kernel=linear, total=   0.0s\n",
      "[CV] C=1.0, class_weight=None, degree=2, gamma=scale, kernel=linear ..\n",
      "[CV]  C=1.0, class_weight=None, degree=2, gamma=scale, kernel=linear, total=   0.0s\n",
      "[CV] C=1.0, class_weight=None, degree=2, gamma=scale, kernel=linear ..\n",
      "[CV]  C=1.0, class_weight=None, degree=2, gamma=scale, kernel=linear, total=   0.0s\n",
      "[CV] C=1.0, class_weight=None, degree=2, gamma=scale, kernel=linear ..\n",
      "[CV]  C=1.0, class_weight=None, degree=2, gamma=scale, kernel=linear, total=   0.0s\n",
      "[CV] C=1.0, class_weight=None, degree=2, gamma=scale, kernel=linear ..\n",
      "[CV]  C=1.0, class_weight=None, degree=2, gamma=scale, kernel=linear, total=   0.0s\n",
      "[CV] C=1.0, class_weight=None, degree=2, gamma=scale, kernel=rbf .....\n",
      "[CV]  C=1.0, class_weight=None, degree=2, gamma=scale, kernel=rbf, total=   0.0s\n",
      "[CV] C=1.0, class_weight=None, degree=2, gamma=scale, kernel=rbf .....\n",
      "[CV]  C=1.0, class_weight=None, degree=2, gamma=scale, kernel=rbf, total=   0.0s\n",
      "[CV] C=1.0, class_weight=None, degree=2, gamma=scale, kernel=rbf .....\n",
      "[CV]  C=1.0, class_weight=None, degree=2, gamma=scale, kernel=rbf, total=   0.0s\n",
      "[CV] C=1.0, class_weight=None, degree=2, gamma=scale, kernel=rbf .....\n",
      "[CV]  C=1.0, class_weight=None, degree=2, gamma=scale, kernel=rbf, total=   0.0s\n",
      "[CV] C=1.0, class_weight=None, degree=2, gamma=scale, kernel=rbf .....\n",
      "[CV]  C=1.0, class_weight=None, degree=2, gamma=scale, kernel=rbf, total=   0.0s\n",
      "[CV] C=1.0, class_weight=None, degree=3, gamma=scale, kernel=linear ..\n",
      "[CV]  C=1.0, class_weight=None, degree=3, gamma=scale, kernel=linear, total=   0.0s\n",
      "[CV] C=1.0, class_weight=None, degree=3, gamma=scale, kernel=linear ..\n",
      "[CV]  C=1.0, class_weight=None, degree=3, gamma=scale, kernel=linear, total=   0.0s\n",
      "[CV] C=1.0, class_weight=None, degree=3, gamma=scale, kernel=linear ..\n",
      "[CV]  C=1.0, class_weight=None, degree=3, gamma=scale, kernel=linear, total=   0.0s\n",
      "[CV] C=1.0, class_weight=None, degree=3, gamma=scale, kernel=linear ..\n",
      "[CV]  C=1.0, class_weight=None, degree=3, gamma=scale, kernel=linear, total=   0.0s\n",
      "[CV] C=1.0, class_weight=None, degree=3, gamma=scale, kernel=linear ..\n",
      "[CV]  C=1.0, class_weight=None, degree=3, gamma=scale, kernel=linear, total=   0.0s\n",
      "[CV] C=1.0, class_weight=None, degree=3, gamma=scale, kernel=rbf .....\n",
      "[CV]  C=1.0, class_weight=None, degree=3, gamma=scale, kernel=rbf, total=   0.0s\n",
      "[CV] C=1.0, class_weight=None, degree=3, gamma=scale, kernel=rbf .....\n",
      "[CV]  C=1.0, class_weight=None, degree=3, gamma=scale, kernel=rbf, total=   0.0s\n",
      "[CV] C=1.0, class_weight=None, degree=3, gamma=scale, kernel=rbf .....\n",
      "[CV]  C=1.0, class_weight=None, degree=3, gamma=scale, kernel=rbf, total=   0.0s\n",
      "[CV] C=1.0, class_weight=None, degree=3, gamma=scale, kernel=rbf .....\n",
      "[CV]  C=1.0, class_weight=None, degree=3, gamma=scale, kernel=rbf, total=   0.0s\n",
      "[CV] C=1.0, class_weight=None, degree=3, gamma=scale, kernel=rbf .....\n",
      "[CV]  C=1.0, class_weight=None, degree=3, gamma=scale, kernel=rbf, total=   0.0s\n"
     ]
    },
    {
     "name": "stderr",
     "output_type": "stream",
     "text": [
      "[Parallel(n_jobs=1)]: Done  90 out of  90 | elapsed:    4.6s finished\n"
     ]
    }
   ],
   "source": [
    "# tuning hyperparameters by GridSearchCV\n",
    "from sklearn.model_selection import GridSearchCV\n",
    "\n",
    "\n",
    "grid_2 = {\"kernel\": [\"linear\", \"rbf\"],\n",
    "        \"gamma\": [\"scale\"],\n",
    "        \"degree\": [1,2,3],\n",
    "        \"class_weight\": [None],\n",
    "        \"C\": [100, 10, 1.0]}\n",
    "\n",
    "np.random.seed(17)\n",
    "\n",
    "svc = SVC()\n",
    "\n",
    "# Setup GridSearchCV\n",
    "gs_svc = GridSearchCV(estimator=svc,\n",
    "                      param_grid=grid_2,\n",
    "                      cv=5,\n",
    "                      verbose=2)\n",
    "\n",
    "# Fit the GSCV version of clf\n",
    "gs_svc.fit(X_train, y_train);\n"
   ]
  },
  {
   "cell_type": "code",
   "execution_count": 48,
   "metadata": {},
   "outputs": [
    {
     "data": {
      "text/plain": [
       "{'C': 10, 'class_weight': None, 'degree': 1, 'gamma': 'scale', 'kernel': 'rbf'}"
      ]
     },
     "execution_count": 48,
     "metadata": {},
     "output_type": "execute_result"
    }
   ],
   "source": [
    "gs_svc.best_params_"
   ]
  },
  {
   "cell_type": "code",
   "execution_count": 49,
   "metadata": {},
   "outputs": [
    {
     "name": "stdout",
     "output_type": "stream",
     "text": [
      "Acc: 75.42%\n",
      "Precision: 0.69\n",
      "Recall: 0.73\n",
      "F1 score: 0.71\n"
     ]
    }
   ],
   "source": [
    "# evaluating our model tuned with GridSearchCV\n",
    "gs_y_preds = gs_svc.predict(X_val)\n",
    "\n",
    "# evaluate predictions\n",
    "gs_metrics = evaluate_preds(y_val, gs_y_preds)"
   ]
  },
  {
   "cell_type": "code",
   "execution_count": 50,
   "metadata": {},
   "outputs": [
    {
     "data": {
      "text/html": [
       "<div>\n",
       "<style scoped>\n",
       "    .dataframe tbody tr th:only-of-type {\n",
       "        vertical-align: middle;\n",
       "    }\n",
       "\n",
       "    .dataframe tbody tr th {\n",
       "        vertical-align: top;\n",
       "    }\n",
       "\n",
       "    .dataframe thead th {\n",
       "        text-align: right;\n",
       "    }\n",
       "</style>\n",
       "<table border=\"1\" class=\"dataframe\">\n",
       "  <thead>\n",
       "    <tr style=\"text-align: right;\">\n",
       "      <th></th>\n",
       "      <th>baseline SVC</th>\n",
       "      <th>random search</th>\n",
       "      <th>grid search</th>\n",
       "    </tr>\n",
       "  </thead>\n",
       "  <tbody>\n",
       "    <tr>\n",
       "      <th>accuracy</th>\n",
       "      <td>0.79</td>\n",
       "      <td>0.79</td>\n",
       "      <td>0.75</td>\n",
       "    </tr>\n",
       "    <tr>\n",
       "      <th>precision</th>\n",
       "      <td>0.79</td>\n",
       "      <td>0.78</td>\n",
       "      <td>0.69</td>\n",
       "    </tr>\n",
       "    <tr>\n",
       "      <th>recall</th>\n",
       "      <td>0.66</td>\n",
       "      <td>0.68</td>\n",
       "      <td>0.73</td>\n",
       "    </tr>\n",
       "    <tr>\n",
       "      <th>f1</th>\n",
       "      <td>0.72</td>\n",
       "      <td>0.73</td>\n",
       "      <td>0.71</td>\n",
       "    </tr>\n",
       "  </tbody>\n",
       "</table>\n",
       "</div>"
      ],
      "text/plain": [
       "           baseline SVC  random search  grid search\n",
       "accuracy           0.79           0.79         0.75\n",
       "precision          0.79           0.78         0.69\n",
       "recall             0.66           0.68         0.73\n",
       "f1                 0.72           0.73         0.71"
      ]
     },
     "execution_count": 50,
     "metadata": {},
     "output_type": "execute_result"
    }
   ],
   "source": [
    "# Lets compare our different model metrics\n",
    "\n",
    "compare_metrics = pd.DataFrame({\"baseline SVC\": svc_metrics,\n",
    "                                \"random search\": rs_metrics,\n",
    "                                \"grid search\": gs_metrics})\n",
    "compare_metrics"
   ]
  },
  {
   "cell_type": "code",
   "execution_count": 51,
   "metadata": {},
   "outputs": [
    {
     "data": {
      "image/png": "[encoded data removed]",
      "text/plain": [
       "<Figure size 720x576 with 1 Axes>"
      ]
     },
     "metadata": {
      "needs_background": "light"
     },
     "output_type": "display_data"
    }
   ],
   "source": [
    "# with bar graph\n",
    "compare_metrics.plot.bar(figsize=(10,8));"
   ]
  },
  {
   "cell_type": "markdown",
   "execution_count": null,
   "metadata": {},
   "source": [
    "Admittedly, this is my first time tuning SVC model. So I have no idea if I'm doing this right.\n",
    "\n",
    "The results are close between without tuning and tuning wih RandomSearchCV. We'll be using the latter since it gives a higher F1-score."
   ]
  },
  {
   "cell_type": "markdown",
   "execution_count": null,
   "metadata": {},
   "source": [
    "## 9) Testing and Submitting\n",
    "\n",
    "Our final objective is use our best model to predict on test data (with no labels), and upload our prediction to Kaggle to evaluate.\n",
    "\n",
    "Our model is choice is SVC tuned with RandomSearchCV."
   ]
  },
  {
   "cell_type": "code",
   "execution_count": 52,
   "metadata": {},
   "outputs": [
    {
     "data": {
      "text/html": [
       "<div>\n",
       "<style scoped>\n",
       "    .dataframe tbody tr th:only-of-type {\n",
       "        vertical-align: middle;\n",
       "    }\n",
       "\n",
       "    .dataframe tbody tr th {\n",
       "        vertical-align: top;\n",
       "    }\n",
       "\n",
       "    .dataframe thead th {\n",
       "        text-align: right;\n",
       "    }\n",
       "</style>\n",
       "<table border=\"1\" class=\"dataframe\">\n",
       "  <thead>\n",
       "    <tr style=\"text-align: right;\">\n",
       "      <th></th>\n",
       "      <th>PassengerId</th>\n",
       "      <th>Pclass</th>\n",
       "      <th>Name</th>\n",
       "      <th>Sex</th>\n",
       "      <th>Age</th>\n",
       "      <th>SibSp</th>\n",
       "      <th>Parch</th>\n",
       "      <th>Ticket</th>\n",
       "      <th>Fare</th>\n",
       "      <th>Cabin</th>\n",
       "      <th>Embarked</th>\n",
       "      <th>Title</th>\n",
       "    </tr>\n",
       "  </thead>\n",
       "  <tbody>\n",
       "    <tr>\n",
       "      <th>0</th>\n",
       "      <td>892</td>\n",
       "      <td>3</td>\n",
       "      <td>Kelly, Mr. James</td>\n",
       "      <td>male</td>\n",
       "      <td>34.5</td>\n",
       "      <td>0</td>\n",
       "      <td>0</td>\n",
       "      <td>330911</td>\n",
       "      <td>7.8292</td>\n",
       "      <td>NaN</td>\n",
       "      <td>Q</td>\n",
       "      <td>Mr</td>\n",
       "    </tr>\n",
       "    <tr>\n",
       "      <th>1</th>\n",
       "      <td>893</td>\n",
       "      <td>3</td>\n",
       "      <td>Wilkes, Mrs. James (Ellen Needs)</td>\n",
       "      <td>female</td>\n",
       "      <td>47.0</td>\n",
       "      <td>1</td>\n",
       "      <td>0</td>\n",
       "      <td>363272</td>\n",
       "      <td>7.0000</td>\n",
       "      <td>NaN</td>\n",
       "      <td>S</td>\n",
       "      <td>Mrs</td>\n",
       "    </tr>\n",
       "    <tr>\n",
       "      <th>2</th>\n",
       "      <td>894</td>\n",
       "      <td>2</td>\n",
       "      <td>Myles, Mr. Thomas Francis</td>\n",
       "      <td>male</td>\n",
       "      <td>62.0</td>\n",
       "      <td>0</td>\n",
       "      <td>0</td>\n",
       "      <td>240276</td>\n",
       "      <td>9.6875</td>\n",
       "      <td>NaN</td>\n",
       "      <td>Q</td>\n",
       "      <td>Mr</td>\n",
       "    </tr>\n",
       "    <tr>\n",
       "      <th>3</th>\n",
       "      <td>895</td>\n",
       "      <td>3</td>\n",
       "      <td>Wirz, Mr. Albert</td>\n",
       "      <td>male</td>\n",
       "      <td>27.0</td>\n",
       "      <td>0</td>\n",
       "      <td>0</td>\n",
       "      <td>315154</td>\n",
       "      <td>8.6625</td>\n",
       "      <td>NaN</td>\n",
       "      <td>S</td>\n",
       "      <td>Mr</td>\n",
       "    </tr>\n",
       "    <tr>\n",
       "      <th>4</th>\n",
       "      <td>896</td>\n",
       "      <td>3</td>\n",
       "      <td>Hirvonen, Mrs. Alexander (Helga E Lindqvist)</td>\n",
       "      <td>female</td>\n",
       "      <td>22.0</td>\n",
       "      <td>1</td>\n",
       "      <td>1</td>\n",
       "      <td>3101298</td>\n",
       "      <td>12.2875</td>\n",
       "      <td>NaN</td>\n",
       "      <td>S</td>\n",
       "      <td>Mrs</td>\n",
       "    </tr>\n",
       "  </tbody>\n",
       "</table>\n",
       "</div>"
      ],
      "text/plain": [
       "   PassengerId  Pclass                                          Name     Sex  \\\n",
       "0          892       3                              Kelly, Mr. James    male   \n",
       "1          893       3              Wilkes, Mrs. James (Ellen Needs)  female   \n",
       "2          894       2                     Myles, Mr. Thomas Francis    male   \n",
       "3          895       3                              Wirz, Mr. Albert    male   \n",
       "4          896       3  Hirvonen, Mrs. Alexander (Helga E Lindqvist)  female   \n",
       "\n",
       "    Age  SibSp  Parch   Ticket     Fare Cabin Embarked Title  \n",
       "0  34.5      0      0   330911   7.8292   NaN        Q    Mr  \n",
       "1  47.0      1      0   363272   7.0000   NaN        S   Mrs  \n",
       "2  62.0      0      0   240276   9.6875   NaN        Q    Mr  \n",
       "3  27.0      0      0   315154   8.6625   NaN        S    Mr  \n",
       "4  22.0      1      1  3101298  12.2875   NaN        S   Mrs  "
      ]
     },
     "execution_count": 52,
     "metadata": {},
     "output_type": "execute_result"
    }
   ],
   "source": [
    "# our raw test data\n",
    "test.head()\n"
   ]
  },
  {
   "cell_type": "code",
   "execution_count": 53,
   "metadata": {},
   "outputs": [
    {
     "data": {
      "text/html": [
       "<div>\n",
       "<style scoped>\n",
       "    .dataframe tbody tr th:only-of-type {\n",
       "        vertical-align: middle;\n",
       "    }\n",
       "\n",
       "    .dataframe tbody tr th {\n",
       "        vertical-align: top;\n",
       "    }\n",
       "\n",
       "    .dataframe thead th {\n",
       "        text-align: right;\n",
       "    }\n",
       "</style>\n",
       "<table border=\"1\" class=\"dataframe\">\n",
       "  <thead>\n",
       "    <tr style=\"text-align: right;\">\n",
       "      <th></th>\n",
       "      <th>0</th>\n",
       "      <th>1</th>\n",
       "      <th>2</th>\n",
       "      <th>3</th>\n",
       "      <th>4</th>\n",
       "      <th>5</th>\n",
       "      <th>6</th>\n",
       "      <th>7</th>\n",
       "      <th>8</th>\n",
       "      <th>9</th>\n",
       "      <th>...</th>\n",
       "      <th>15</th>\n",
       "      <th>16</th>\n",
       "      <th>17</th>\n",
       "      <th>18</th>\n",
       "      <th>19</th>\n",
       "      <th>20</th>\n",
       "      <th>21</th>\n",
       "      <th>22</th>\n",
       "      <th>23</th>\n",
       "      <th>24</th>\n",
       "    </tr>\n",
       "  </thead>\n",
       "  <tbody>\n",
       "    <tr>\n",
       "      <th>0</th>\n",
       "      <td>0.0</td>\n",
       "      <td>1.0</td>\n",
       "      <td>0.0</td>\n",
       "      <td>1.0</td>\n",
       "      <td>0.0</td>\n",
       "      <td>0.0</td>\n",
       "      <td>0.0</td>\n",
       "      <td>0.0</td>\n",
       "      <td>0.0</td>\n",
       "      <td>0.0</td>\n",
       "      <td>...</td>\n",
       "      <td>0.0</td>\n",
       "      <td>0.0</td>\n",
       "      <td>0.0</td>\n",
       "      <td>0.0</td>\n",
       "      <td>0.0</td>\n",
       "      <td>1.0</td>\n",
       "      <td>0.0</td>\n",
       "      <td>1.0</td>\n",
       "      <td>0.0</td>\n",
       "      <td>0.0</td>\n",
       "    </tr>\n",
       "    <tr>\n",
       "      <th>1</th>\n",
       "      <td>1.0</td>\n",
       "      <td>0.0</td>\n",
       "      <td>0.0</td>\n",
       "      <td>0.0</td>\n",
       "      <td>1.0</td>\n",
       "      <td>1.0</td>\n",
       "      <td>0.0</td>\n",
       "      <td>0.0</td>\n",
       "      <td>0.0</td>\n",
       "      <td>0.0</td>\n",
       "      <td>...</td>\n",
       "      <td>0.0</td>\n",
       "      <td>0.0</td>\n",
       "      <td>0.0</td>\n",
       "      <td>0.0</td>\n",
       "      <td>0.0</td>\n",
       "      <td>1.0</td>\n",
       "      <td>0.0</td>\n",
       "      <td>1.0</td>\n",
       "      <td>1.0</td>\n",
       "      <td>0.0</td>\n",
       "    </tr>\n",
       "    <tr>\n",
       "      <th>2</th>\n",
       "      <td>0.0</td>\n",
       "      <td>1.0</td>\n",
       "      <td>0.0</td>\n",
       "      <td>1.0</td>\n",
       "      <td>0.0</td>\n",
       "      <td>0.0</td>\n",
       "      <td>0.0</td>\n",
       "      <td>0.0</td>\n",
       "      <td>0.0</td>\n",
       "      <td>1.0</td>\n",
       "      <td>...</td>\n",
       "      <td>0.0</td>\n",
       "      <td>0.0</td>\n",
       "      <td>0.0</td>\n",
       "      <td>0.0</td>\n",
       "      <td>1.0</td>\n",
       "      <td>0.0</td>\n",
       "      <td>0.0</td>\n",
       "      <td>1.0</td>\n",
       "      <td>0.0</td>\n",
       "      <td>0.0</td>\n",
       "    </tr>\n",
       "    <tr>\n",
       "      <th>3</th>\n",
       "      <td>0.0</td>\n",
       "      <td>1.0</td>\n",
       "      <td>0.0</td>\n",
       "      <td>0.0</td>\n",
       "      <td>1.0</td>\n",
       "      <td>0.0</td>\n",
       "      <td>0.0</td>\n",
       "      <td>0.0</td>\n",
       "      <td>0.0</td>\n",
       "      <td>0.0</td>\n",
       "      <td>...</td>\n",
       "      <td>0.0</td>\n",
       "      <td>0.0</td>\n",
       "      <td>0.0</td>\n",
       "      <td>0.0</td>\n",
       "      <td>0.0</td>\n",
       "      <td>1.0</td>\n",
       "      <td>0.0</td>\n",
       "      <td>1.0</td>\n",
       "      <td>0.0</td>\n",
       "      <td>0.0</td>\n",
       "    </tr>\n",
       "    <tr>\n",
       "      <th>4</th>\n",
       "      <td>1.0</td>\n",
       "      <td>0.0</td>\n",
       "      <td>0.0</td>\n",
       "      <td>0.0</td>\n",
       "      <td>1.0</td>\n",
       "      <td>0.0</td>\n",
       "      <td>0.0</td>\n",
       "      <td>0.0</td>\n",
       "      <td>0.0</td>\n",
       "      <td>0.0</td>\n",
       "      <td>...</td>\n",
       "      <td>0.0</td>\n",
       "      <td>0.0</td>\n",
       "      <td>0.0</td>\n",
       "      <td>0.0</td>\n",
       "      <td>0.0</td>\n",
       "      <td>1.0</td>\n",
       "      <td>0.0</td>\n",
       "      <td>1.0</td>\n",
       "      <td>1.0</td>\n",
       "      <td>1.0</td>\n",
       "    </tr>\n",
       "    <tr>\n",
       "      <th>...</th>\n",
       "      <td>...</td>\n",
       "      <td>...</td>\n",
       "      <td>...</td>\n",
       "      <td>...</td>\n",
       "      <td>...</td>\n",
       "      <td>...</td>\n",
       "      <td>...</td>\n",
       "      <td>...</td>\n",
       "      <td>...</td>\n",
       "      <td>...</td>\n",
       "      <td>...</td>\n",
       "      <td>...</td>\n",
       "      <td>...</td>\n",
       "      <td>...</td>\n",
       "      <td>...</td>\n",
       "      <td>...</td>\n",
       "      <td>...</td>\n",
       "      <td>...</td>\n",
       "      <td>...</td>\n",
       "      <td>...</td>\n",
       "      <td>...</td>\n",
       "    </tr>\n",
       "    <tr>\n",
       "      <th>413</th>\n",
       "      <td>0.0</td>\n",
       "      <td>1.0</td>\n",
       "      <td>0.0</td>\n",
       "      <td>0.0</td>\n",
       "      <td>1.0</td>\n",
       "      <td>0.0</td>\n",
       "      <td>1.0</td>\n",
       "      <td>0.0</td>\n",
       "      <td>0.0</td>\n",
       "      <td>0.0</td>\n",
       "      <td>...</td>\n",
       "      <td>0.0</td>\n",
       "      <td>0.0</td>\n",
       "      <td>0.0</td>\n",
       "      <td>0.0</td>\n",
       "      <td>0.0</td>\n",
       "      <td>1.0</td>\n",
       "      <td>0.0</td>\n",
       "      <td>1.0</td>\n",
       "      <td>0.0</td>\n",
       "      <td>0.0</td>\n",
       "    </tr>\n",
       "    <tr>\n",
       "      <th>414</th>\n",
       "      <td>1.0</td>\n",
       "      <td>0.0</td>\n",
       "      <td>1.0</td>\n",
       "      <td>0.0</td>\n",
       "      <td>0.0</td>\n",
       "      <td>0.0</td>\n",
       "      <td>0.0</td>\n",
       "      <td>0.0</td>\n",
       "      <td>0.0</td>\n",
       "      <td>0.0</td>\n",
       "      <td>...</td>\n",
       "      <td>0.0</td>\n",
       "      <td>0.0</td>\n",
       "      <td>1.0</td>\n",
       "      <td>1.0</td>\n",
       "      <td>0.0</td>\n",
       "      <td>0.0</td>\n",
       "      <td>1.0</td>\n",
       "      <td>0.0</td>\n",
       "      <td>0.0</td>\n",
       "      <td>0.0</td>\n",
       "    </tr>\n",
       "    <tr>\n",
       "      <th>415</th>\n",
       "      <td>0.0</td>\n",
       "      <td>1.0</td>\n",
       "      <td>0.0</td>\n",
       "      <td>0.0</td>\n",
       "      <td>1.0</td>\n",
       "      <td>0.0</td>\n",
       "      <td>0.0</td>\n",
       "      <td>0.0</td>\n",
       "      <td>0.0</td>\n",
       "      <td>0.0</td>\n",
       "      <td>...</td>\n",
       "      <td>0.0</td>\n",
       "      <td>0.0</td>\n",
       "      <td>0.0</td>\n",
       "      <td>0.0</td>\n",
       "      <td>0.0</td>\n",
       "      <td>1.0</td>\n",
       "      <td>0.0</td>\n",
       "      <td>1.0</td>\n",
       "      <td>0.0</td>\n",
       "      <td>0.0</td>\n",
       "    </tr>\n",
       "    <tr>\n",
       "      <th>416</th>\n",
       "      <td>0.0</td>\n",
       "      <td>1.0</td>\n",
       "      <td>0.0</td>\n",
       "      <td>0.0</td>\n",
       "      <td>1.0</td>\n",
       "      <td>0.0</td>\n",
       "      <td>1.0</td>\n",
       "      <td>0.0</td>\n",
       "      <td>0.0</td>\n",
       "      <td>0.0</td>\n",
       "      <td>...</td>\n",
       "      <td>0.0</td>\n",
       "      <td>0.0</td>\n",
       "      <td>0.0</td>\n",
       "      <td>0.0</td>\n",
       "      <td>0.0</td>\n",
       "      <td>1.0</td>\n",
       "      <td>0.0</td>\n",
       "      <td>1.0</td>\n",
       "      <td>0.0</td>\n",
       "      <td>0.0</td>\n",
       "    </tr>\n",
       "    <tr>\n",
       "      <th>417</th>\n",
       "      <td>0.0</td>\n",
       "      <td>1.0</td>\n",
       "      <td>1.0</td>\n",
       "      <td>0.0</td>\n",
       "      <td>0.0</td>\n",
       "      <td>0.0</td>\n",
       "      <td>1.0</td>\n",
       "      <td>0.0</td>\n",
       "      <td>0.0</td>\n",
       "      <td>0.0</td>\n",
       "      <td>...</td>\n",
       "      <td>0.0</td>\n",
       "      <td>0.0</td>\n",
       "      <td>0.0</td>\n",
       "      <td>0.0</td>\n",
       "      <td>0.0</td>\n",
       "      <td>1.0</td>\n",
       "      <td>0.0</td>\n",
       "      <td>1.0</td>\n",
       "      <td>1.0</td>\n",
       "      <td>1.0</td>\n",
       "    </tr>\n",
       "  </tbody>\n",
       "</table>\n",
       "<p>418 rows × 25 columns</p>\n",
       "</div>"
      ],
      "text/plain": [
       "      0    1    2    3    4    5    6    7    8    9   ...   15   16   17  \\\n",
       "0    0.0  1.0  0.0  1.0  0.0  0.0  0.0  0.0  0.0  0.0  ...  0.0  0.0  0.0   \n",
       "1    1.0  0.0  0.0  0.0  1.0  1.0  0.0  0.0  0.0  0.0  ...  0.0  0.0  0.0   \n",
       "2    0.0  1.0  0.0  1.0  0.0  0.0  0.0  0.0  0.0  1.0  ...  0.0  0.0  0.0   \n",
       "3    0.0  1.0  0.0  0.0  1.0  0.0  0.0  0.0  0.0  0.0  ...  0.0  0.0  0.0   \n",
       "4    1.0  0.0  0.0  0.0  1.0  0.0  0.0  0.0  0.0  0.0  ...  0.0  0.0  0.0   \n",
       "..   ...  ...  ...  ...  ...  ...  ...  ...  ...  ...  ...  ...  ...  ...   \n",
       "413  0.0  1.0  0.0  0.0  1.0  0.0  1.0  0.0  0.0  0.0  ...  0.0  0.0  0.0   \n",
       "414  1.0  0.0  1.0  0.0  0.0  0.0  0.0  0.0  0.0  0.0  ...  0.0  0.0  1.0   \n",
       "415  0.0  1.0  0.0  0.0  1.0  0.0  0.0  0.0  0.0  0.0  ...  0.0  0.0  0.0   \n",
       "416  0.0  1.0  0.0  0.0  1.0  0.0  1.0  0.0  0.0  0.0  ...  0.0  0.0  0.0   \n",
       "417  0.0  1.0  1.0  0.0  0.0  0.0  1.0  0.0  0.0  0.0  ...  0.0  0.0  0.0   \n",
       "\n",
       "      18   19   20   21   22   23   24  \n",
       "0    0.0  0.0  1.0  0.0  1.0  0.0  0.0  \n",
       "1    0.0  0.0  1.0  0.0  1.0  1.0  0.0  \n",
       "2    0.0  1.0  0.0  0.0  1.0  0.0  0.0  \n",
       "3    0.0  0.0  1.0  0.0  1.0  0.0  0.0  \n",
       "4    0.0  0.0  1.0  0.0  1.0  1.0  1.0  \n",
       "..   ...  ...  ...  ...  ...  ...  ...  \n",
       "413  0.0  0.0  1.0  0.0  1.0  0.0  0.0  \n",
       "414  1.0  0.0  0.0  1.0  0.0  0.0  0.0  \n",
       "415  0.0  0.0  1.0  0.0  1.0  0.0  0.0  \n",
       "416  0.0  0.0  1.0  0.0  1.0  0.0  0.0  \n",
       "417  0.0  0.0  1.0  0.0  1.0  1.0  1.0  \n",
       "\n",
       "[418 rows x 25 columns]"
      ]
     },
     "execution_count": 53,
     "metadata": {},
     "output_type": "execute_result"
    }
   ],
   "source": [
    "# tranforming test data\n",
    "test_tf = transform_data(test)\n",
    "pd.DataFrame(test_tf)"
   ]
  },
  {
   "cell_type": "code",
   "execution_count": 54,
   "metadata": {},
   "outputs": [
    {
     "data": {
      "text/plain": [
       "0     0\n",
       "1     0\n",
       "2     0\n",
       "3     0\n",
       "4     0\n",
       "5     0\n",
       "6     0\n",
       "7     0\n",
       "8     0\n",
       "9     0\n",
       "10    0\n",
       "11    0\n",
       "12    0\n",
       "13    0\n",
       "14    0\n",
       "15    0\n",
       "16    0\n",
       "17    0\n",
       "18    0\n",
       "19    0\n",
       "20    0\n",
       "21    0\n",
       "22    0\n",
       "23    0\n",
       "24    0\n",
       "dtype: int64"
      ]
     },
     "execution_count": 54,
     "metadata": {},
     "output_type": "execute_result"
    }
   ],
   "source": [
    "# check no missing value\n",
    "pd.DataFrame(test_tf).isna().sum()"
   ]
  },
  {
   "cell_type": "code",
   "execution_count": 55,
   "metadata": {},
   "outputs": [
    {
     "data": {
      "text/html": [
       "<div>\n",
       "<style scoped>\n",
       "    .dataframe tbody tr th:only-of-type {\n",
       "        vertical-align: middle;\n",
       "    }\n",
       "\n",
       "    .dataframe tbody tr th {\n",
       "        vertical-align: top;\n",
       "    }\n",
       "\n",
       "    .dataframe thead th {\n",
       "        text-align: right;\n",
       "    }\n",
       "</style>\n",
       "<table border=\"1\" class=\"dataframe\">\n",
       "  <thead>\n",
       "    <tr style=\"text-align: right;\">\n",
       "      <th></th>\n",
       "      <th>0</th>\n",
       "    </tr>\n",
       "  </thead>\n",
       "  <tbody>\n",
       "    <tr>\n",
       "      <th>0</th>\n",
       "      <td>0</td>\n",
       "    </tr>\n",
       "    <tr>\n",
       "      <th>1</th>\n",
       "      <td>1</td>\n",
       "    </tr>\n",
       "    <tr>\n",
       "      <th>2</th>\n",
       "      <td>0</td>\n",
       "    </tr>\n",
       "    <tr>\n",
       "      <th>3</th>\n",
       "      <td>0</td>\n",
       "    </tr>\n",
       "    <tr>\n",
       "      <th>4</th>\n",
       "      <td>1</td>\n",
       "    </tr>\n",
       "    <tr>\n",
       "      <th>...</th>\n",
       "      <td>...</td>\n",
       "    </tr>\n",
       "    <tr>\n",
       "      <th>413</th>\n",
       "      <td>0</td>\n",
       "    </tr>\n",
       "    <tr>\n",
       "      <th>414</th>\n",
       "      <td>1</td>\n",
       "    </tr>\n",
       "    <tr>\n",
       "      <th>415</th>\n",
       "      <td>0</td>\n",
       "    </tr>\n",
       "    <tr>\n",
       "      <th>416</th>\n",
       "      <td>0</td>\n",
       "    </tr>\n",
       "    <tr>\n",
       "      <th>417</th>\n",
       "      <td>0</td>\n",
       "    </tr>\n",
       "  </tbody>\n",
       "</table>\n",
       "<p>418 rows × 1 columns</p>\n",
       "</div>"
      ],
      "text/plain": [
       "     0\n",
       "0    0\n",
       "1    1\n",
       "2    0\n",
       "3    0\n",
       "4    1\n",
       "..  ..\n",
       "413  0\n",
       "414  1\n",
       "415  0\n",
       "416  0\n",
       "417  0\n",
       "\n",
       "[418 rows x 1 columns]"
      ]
     },
     "execution_count": 55,
     "metadata": {},
     "output_type": "execute_result"
    }
   ],
   "source": [
    "# run our prediction with our rs_svc model\n",
    "\n",
    "test_preds = rs_svc.predict(test_tf)\n",
    "pd.DataFrame(test_preds)"
   ]
  },
  {
   "cell_type": "code",
   "execution_count": 56,
   "metadata": {},
   "outputs": [
    {
     "data": {
      "text/html": [
       "<div>\n",
       "<style scoped>\n",
       "    .dataframe tbody tr th:only-of-type {\n",
       "        vertical-align: middle;\n",
       "    }\n",
       "\n",
       "    .dataframe tbody tr th {\n",
       "        vertical-align: top;\n",
       "    }\n",
       "\n",
       "    .dataframe thead th {\n",
       "        text-align: right;\n",
       "    }\n",
       "</style>\n",
       "<table border=\"1\" class=\"dataframe\">\n",
       "  <thead>\n",
       "    <tr style=\"text-align: right;\">\n",
       "      <th></th>\n",
       "      <th>PassengerId</th>\n",
       "      <th>Survived</th>\n",
       "    </tr>\n",
       "  </thead>\n",
       "  <tbody>\n",
       "    <tr>\n",
       "      <th>0</th>\n",
       "      <td>892</td>\n",
       "      <td>0</td>\n",
       "    </tr>\n",
       "    <tr>\n",
       "      <th>1</th>\n",
       "      <td>893</td>\n",
       "      <td>1</td>\n",
       "    </tr>\n",
       "    <tr>\n",
       "      <th>2</th>\n",
       "      <td>894</td>\n",
       "      <td>0</td>\n",
       "    </tr>\n",
       "    <tr>\n",
       "      <th>3</th>\n",
       "      <td>895</td>\n",
       "      <td>0</td>\n",
       "    </tr>\n",
       "    <tr>\n",
       "      <th>4</th>\n",
       "      <td>896</td>\n",
       "      <td>1</td>\n",
       "    </tr>\n",
       "    <tr>\n",
       "      <th>...</th>\n",
       "      <td>...</td>\n",
       "      <td>...</td>\n",
       "    </tr>\n",
       "    <tr>\n",
       "      <th>413</th>\n",
       "      <td>1305</td>\n",
       "      <td>0</td>\n",
       "    </tr>\n",
       "    <tr>\n",
       "      <th>414</th>\n",
       "      <td>1306</td>\n",
       "      <td>1</td>\n",
       "    </tr>\n",
       "    <tr>\n",
       "      <th>415</th>\n",
       "      <td>1307</td>\n",
       "      <td>0</td>\n",
       "    </tr>\n",
       "    <tr>\n",
       "      <th>416</th>\n",
       "      <td>1308</td>\n",
       "      <td>0</td>\n",
       "    </tr>\n",
       "    <tr>\n",
       "      <th>417</th>\n",
       "      <td>1309</td>\n",
       "      <td>0</td>\n",
       "    </tr>\n",
       "  </tbody>\n",
       "</table>\n",
       "<p>418 rows × 2 columns</p>\n",
       "</div>"
      ],
      "text/plain": [
       "     PassengerId  Survived\n",
       "0            892         0\n",
       "1            893         1\n",
       "2            894         0\n",
       "3            895         0\n",
       "4            896         1\n",
       "..           ...       ...\n",
       "413         1305         0\n",
       "414         1306         1\n",
       "415         1307         0\n",
       "416         1308         0\n",
       "417         1309         0\n",
       "\n",
       "[418 rows x 2 columns]"
      ]
     },
     "execution_count": 56,
     "metadata": {},
     "output_type": "execute_result"
    }
   ],
   "source": [
    "submission = pd.DataFrame({\"PassengerId\": test[\"PassengerId\"], \n",
    "                          \"Survived\": test_preds})\n",
    "submission"
   ]
  },
  {
   "cell_type": "code",
   "execution_count": 57,
   "metadata": {},
   "outputs": [
    {
     "data": {
      "text/plain": [
       "(418, 418)"
      ]
     },
     "execution_count": 57,
     "metadata": {},
     "output_type": "execute_result"
    }
   ],
   "source": [
    "# check length\n",
    "\n",
    "len(submission), len(test)"
   ]
  },
  {
   "cell_type": "code",
   "execution_count": 58,
   "metadata": {},
   "outputs": [],
   "source": [
    "submission.to_csv(\"submission_v2.csv\", index=False)"
   ]
  },
  {
   "cell_type": "markdown",
   "execution_count": null,
   "metadata": {},
   "source": [
    "### 10) After thoughts\n",
    "\n",
    "Our submission has an accuracy score of 0.77033.\n",
    "\n",
    "Interestingly, our previous submission using RandomForest without doing any feature engineering received a higher score of 0.78947.\n",
    "\n",
    "So looks like all our deliberate tinkering has actually made a worse model!\n",
    "\n",
    "Credits to Nadin Tamer for sharing her very beginner-friendly notebook: https://www.kaggle.com/nadintamer/titanic-survival-predictions-beginner "
   ]
  },
  {
   "cell_type": "code",
   "execution_count": null,
   "metadata": {},
   "outputs": [],
   "source": []
  }
 ],
 "metadata": {
  "kernelspec": {
   "display_name": "Python 3",
   "language": "python",
   "name": "python3"
  },
  "language_info": {
   "codemirror_mode": {
    "name": "ipython",
    "version": 3
   },
   "file_extension": ".py",
   "mimetype": "text/x-python",
   "name": "python",
   "nbconvert_exporter": "python",
   "pygments_lexer": "ipython3",
   "version": "3.7.6"
  }
 },
 "nbformat": 4,
 "nbformat_minor": 4
}
